{
 "cells": [
  {
   "cell_type": "code",
   "execution_count": 3,
   "metadata": {},
   "outputs": [],
   "source": [
    "import pandas as pd\n",
    "\n",
    "# Read the CSV file\n",
    "data = pd.read_csv('CSVData.csv')\n",
    "\n",
    "# Convert the date format from DD-MM-YYYY to MM-DD-YYYY\n",
    "data['Date'] = pd.to_datetime(data['Date'], format='%d/%m/%Y').dt.strftime('%m/%d/%Y')\n",
    "\n",
    "# Save the dataframe to a new CSV file\n",
    "data.to_csv('CSVData_new.csv', index=False)\n",
    "\n"
   ]
  }
 ],
 "metadata": {
  "kernelspec": {
   "display_name": "knowledge-toolkit-1xOQ03yO",
   "language": "python",
   "name": "python3"
  },
  "language_info": {
   "codemirror_mode": {
    "name": "ipython",
    "version": 3
   },
   "file_extension": ".py",
   "mimetype": "text/x-python",
   "name": "python",
   "nbconvert_exporter": "python",
   "pygments_lexer": "ipython3",
   "version": "3.9.6"
  }
 },
 "nbformat": 4,
 "nbformat_minor": 2
}
