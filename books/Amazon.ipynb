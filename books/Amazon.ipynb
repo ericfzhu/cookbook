{
 "cells": [
  {
   "cell_type": "code",
   "execution_count": 4,
   "metadata": {
    "collapsed": true
   },
   "outputs": [],
   "source": [
    "import requests\n",
    "from bs4 import BeautifulSoup\n",
    "\n",
    "url = \"https://www.amazon.com.au/Mindset-Updated-Changing-Fulfil-Potential-ebook/dp/B01M036N60/ref=sr_1_6?crid=15BTONK5V1319&keywords=modelling+mindsets&qid=1671322485&sprefix=modelling+mindset%2Caps%2C224&sr=8-6\"\n",
    "\n",
    "response = requests.get(url)\n",
    "soup = BeautifulSoup(response.text, \"html.parser\")"
   ]
  },
  {
   "cell_type": "code",
   "execution_count": 2,
   "outputs": [
    {
     "ename": "AttributeError",
     "evalue": "'NoneType' object has no attribute 'text'",
     "output_type": "error",
     "traceback": [
      "\u001B[0;31m---------------------------------------------------------------------------\u001B[0m",
      "\u001B[0;31mAttributeError\u001B[0m                            Traceback (most recent call last)",
      "Cell \u001B[0;32mIn[2], line 1\u001B[0m\n\u001B[0;32m----> 1\u001B[0m title \u001B[38;5;241m=\u001B[39m \u001B[43msoup\u001B[49m\u001B[38;5;241;43m.\u001B[39;49m\u001B[43mfind\u001B[49m\u001B[43m(\u001B[49m\u001B[38;5;124;43m\"\u001B[39;49m\u001B[38;5;124;43mspan\u001B[39;49m\u001B[38;5;124;43m\"\u001B[39;49m\u001B[43m,\u001B[49m\u001B[43m \u001B[49m\u001B[43m{\u001B[49m\u001B[38;5;124;43m\"\u001B[39;49m\u001B[38;5;124;43mid\u001B[39;49m\u001B[38;5;124;43m\"\u001B[39;49m\u001B[43m:\u001B[49m\u001B[43m \u001B[49m\u001B[38;5;124;43m\"\u001B[39;49m\u001B[38;5;124;43mproductTitle\u001B[39;49m\u001B[38;5;124;43m\"\u001B[39;49m\u001B[43m}\u001B[49m\u001B[43m)\u001B[49m\u001B[38;5;241;43m.\u001B[39;49m\u001B[43mtext\u001B[49m\n\u001B[1;32m      2\u001B[0m price \u001B[38;5;241m=\u001B[39m soup\u001B[38;5;241m.\u001B[39mfind(\u001B[38;5;124m\"\u001B[39m\u001B[38;5;124mspan\u001B[39m\u001B[38;5;124m\"\u001B[39m, {\u001B[38;5;124m\"\u001B[39m\u001B[38;5;124mclass\u001B[39m\u001B[38;5;124m\"\u001B[39m: \u001B[38;5;124m\"\u001B[39m\u001B[38;5;124ma-color-price\u001B[39m\u001B[38;5;124m\"\u001B[39m})\u001B[38;5;241m.\u001B[39mtext\n\u001B[1;32m      4\u001B[0m \u001B[38;5;66;03m# Print the extracted data\u001B[39;00m\n",
      "\u001B[0;31mAttributeError\u001B[0m: 'NoneType' object has no attribute 'text'"
     ]
    }
   ],
   "source": [
    "title = soup.find(\"span\", {\"id\": \"productTitle\"}).text\n",
    "price = soup.find(\"span\", {\"class\": \"a-color-price\"}).text\n",
    "\n",
    "# Print the extracted data\n",
    "print(f\"Title: {title}\")\n",
    "print(f\"Price: {price}\")"
   ],
   "metadata": {
    "collapsed": false
   }
  },
  {
   "cell_type": "code",
   "execution_count": 5,
   "outputs": [
    {
     "data": {
      "text/plain": "<!DOCTYPE html>\n\n<!--[if lt IE 7]> <html lang=\"en-us\" class=\"a-no-js a-lt-ie9 a-lt-ie8 a-lt-ie7\"> <![endif]-->\n<!--[if IE 7]>    <html lang=\"en-us\" class=\"a-no-js a-lt-ie9 a-lt-ie8\"> <![endif]-->\n<!--[if IE 8]>    <html lang=\"en-us\" class=\"a-no-js a-lt-ie9\"> <![endif]-->\n<!--[if gt IE 8]><!-->\n<html class=\"a-no-js\" lang=\"en-us\"><!--<![endif]--><head>\n<meta content=\"text/html; charset=utf-8\" http-equiv=\"content-type\"/>\n<meta charset=\"utf-8\"/>\n<meta content=\"IE=edge,chrome=1\" http-equiv=\"X-UA-Compatible\"/>\n<title dir=\"ltr\">Server Busy</title>\n<meta content=\"width=device-width\" name=\"viewport\"/>\n<link href=\"https://images-na.ssl-images-amazon.com/images/G/01/AUIClients/AmazonUI-3c913031596ca78a3768f4e934b1cc02ce238101.secure.min._V1_.css\" rel=\"stylesheet\"/>\n</head>\n<body>\n<!--\nCorreios.DoNotSend\n-->\n<div class=\"a-container a-padding-double-large\" style=\"min-width:350px;padding:44px 0 !important\">\n<div class=\"a-row a-spacing-double-large\" style=\"width: 350px; margin: 0 auto\">\n<div class=\"a-row a-spacing-medium a-text-center\"><i class=\"a-icon a-logo\"></i></div>\n<div class=\"a-box a-alert a-alert-info a-spacing-base\">\n<div class=\"a-box-inner\">\n<i class=\"a-icon a-icon-alert\"></i>\n<h4>Server Busy</h4>\n<p class=\"a-last\">Our servers are getting hit pretty hard right now. To continue shopping, enter the characters as they are shown \n                    in the image below.</p>\n</div>\n</div>\n<div class=\"a-section\">\n<div class=\"a-box a-color-offset-background\">\n<div class=\"a-box-inner a-padding-extra-large\">\n<form action=\"/errors/validateCaptcha\" method=\"get\" name=\"\">\n<input name=\"amzn\" type=\"hidden\" value=\"VEQxc6Hqkyh3pbMVHoF46Q==\"/><input name=\"amzn-r\" type=\"hidden\" value=\"/Mindset-Updated-Changing-Fulfil-Potential-ebook/dp/B01M036N60/ref=sr_1_6?crid=15BTONK5V1319&amp;keywords=modelling+mindsets&amp;qid=1671322485&amp;sprefix=modelling+mindset%2Caps%2C224&amp;sr=8-6\"/>\n<div class=\"a-row a-spacing-large\">\n<div class=\"a-box\">\n<div class=\"a-box-inner\">\n<h4>Type the characters you see in this image:</h4>\n<div class=\"a-row a-text-center\">\n<img src=\"https://images-na.ssl-images-amazon.com/captcha/cdkxpfei/Captcha_zdrdzhcllz.jpg\"/>\n</div>\n<div class=\"a-row a-spacing-base\">\n<div class=\"a-row\">\n<div class=\"a-column a-span6\">\n<label for=\"captchacharacters\">Type characters</label>\n</div>\n<div class=\"a-column a-span6 a-span-last a-text-right\">\n<a onclick=\"window.location.reload()\">Try different image</a>\n</div>\n</div>\n<input autocapitalize=\"off\" autocomplete=\"off\" autocorrect=\"off\" class=\"a-span12\" id=\"captchacharacters\" name=\"field-keywords\" spellcheck=\"false\" type=\"text\"/>\n</div>\n</div>\n</div>\n</div>\n<div class=\"a-section a-spacing-extra-large\">\n<div class=\"a-row\">\n<span class=\"a-button a-button-primary a-span12\">\n<span class=\"a-button-inner\">\n<button class=\"a-button-text\" type=\"submit\">Continue shopping</button>\n</span>\n</span>\n</div>\n</div>\n</form>\n</div>\n</div>\n</div>\n</div>\n<div class=\"a-divider a-divider-section\"><div class=\"a-divider-inner\"></div></div>\n<div class=\"a-text-center a-size-mini a-color-secondary\">© 1996-2013, Amazon.com, Inc. or its affiliates</div>\n</div>\n</body></html>"
     },
     "execution_count": 5,
     "metadata": {},
     "output_type": "execute_result"
    }
   ],
   "source": [
    "soup"
   ],
   "metadata": {
    "collapsed": false
   }
  },
  {
   "cell_type": "code",
   "execution_count": null,
   "outputs": [],
   "source": [],
   "metadata": {
    "collapsed": false
   }
  }
 ],
 "metadata": {
  "kernelspec": {
   "display_name": "Python 3",
   "language": "python",
   "name": "python3"
  },
  "language_info": {
   "codemirror_mode": {
    "name": "ipython",
    "version": 2
   },
   "file_extension": ".py",
   "mimetype": "text/x-python",
   "name": "python",
   "nbconvert_exporter": "python",
   "pygments_lexer": "ipython2",
   "version": "2.7.6"
  }
 },
 "nbformat": 4,
 "nbformat_minor": 0
}
