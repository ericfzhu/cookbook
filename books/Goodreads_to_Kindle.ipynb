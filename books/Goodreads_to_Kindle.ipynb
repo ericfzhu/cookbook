{
 "cells": [
  {
   "cell_type": "code",
   "execution_count": 10,
   "outputs": [],
   "source": [
    "from modules.libgen import LibGen\n",
    "from modules.kindle import Kindle\n",
    "from modules.goodreads import Goodreads\n",
    "import os\n",
    "\n",
    "from dotenv import load_dotenv\n",
    "\n",
    "load_dotenv()\n",
    "SMTP_HOST = os.environ[\"SMTP_HOST\"]\n",
    "SMTP_PORT = os.environ[\"SMTP_PORT\"]\n",
    "EMAIL = os.environ[\"EMAIL\"]\n",
    "EMAIL_PASSWORD = os.environ[\"EMAIL_PASSWORD\"]\n",
    "EMAIL_TARGET = os.environ[\"EMAIL_TARGET\"]\n",
    "\n",
    "# Provide the Goodreads URL to capture the metadata for\n",
    "URL = \"https://www.goodreads.com/book/show/40242274-a-random-walk-down-wall-street\"\n",
    "\n",
    "goodreads = Goodreads(URL)\n",
    "\n",
    "book = goodreads.get_metadata()"
   ],
   "metadata": {
    "collapsed": false
   }
  },
  {
   "cell_type": "code",
   "execution_count": 11,
   "outputs": [
    {
     "data": {
      "text/plain": "[<modules.utils.LibGenBook at 0x116f74b90>,\n <modules.utils.LibGenBook at 0x116cdff90>,\n <modules.utils.LibGenBook at 0x116f65b90>,\n <modules.utils.LibGenBook at 0x116f5b090>]"
     },
     "execution_count": 11,
     "metadata": {},
     "output_type": "execute_result"
    }
   ],
   "source": [
    "# Provide the query and search type for libgen\n",
    "if book.isbn is not None:\n",
    "    query = book.isbn\n",
    "    search_type = \"identifier\"\n",
    "else:\n",
    "    query = book.name\n",
    "    search_type = \"title\"\n",
    "\n",
    "libgen = LibGen(query, search_type)\n",
    "libgen.get_book_results()"
   ],
   "metadata": {
    "collapsed": false
   }
  },
  {
   "cell_type": "code",
   "execution_count": 12,
   "outputs": [
    {
     "data": {
      "text/plain": "['http://library.lol/main/A25DE9D2E48A04CF3AEB62A2B257291C',\n 'http://libgen.lc/ads.php?md5=A25DE9D2E48A04CF3AEB62A2B257291C',\n 'http://library.lol/main/11D75DD37FA9EE5698A019F0CDA28616',\n 'http://libgen.lc/ads.php?md5=11D75DD37FA9EE5698A019F0CDA28616',\n 'http://library.lol/main/5A74E04657BC4E0B60D8C02A706222C7',\n 'http://libgen.lc/ads.php?md5=5A74E04657BC4E0B60D8C02A706222C7',\n 'http://library.lol/main/9BFCE85EBB6E844B526250E4A4C7CC0F',\n 'http://libgen.lc/ads.php?md5=9BFCE85EBB6E844B526250E4A4C7CC0F']"
     },
     "execution_count": 12,
     "metadata": {},
     "output_type": "execute_result"
    }
   ],
   "source": [
    "libgen.get_download_links()"
   ],
   "metadata": {
    "collapsed": false
   }
  },
  {
   "cell_type": "code",
   "execution_count": 13,
   "outputs": [],
   "source": [
    "response = libgen.download_first()"
   ],
   "metadata": {
    "collapsed": false
   }
  },
  {
   "cell_type": "code",
   "execution_count": 15,
   "outputs": [],
   "source": [
    "kindle = Kindle(EMAIL, EMAIL_PASSWORD, SMTP_HOST, SMTP_PORT)\n",
    "kindle.send_book(EMAIL_TARGET, libgen.get_book_results()[0].title, response)"
   ],
   "metadata": {
    "collapsed": false
   }
  },
  {
   "cell_type": "code",
   "execution_count": null,
   "outputs": [],
   "source": [],
   "metadata": {
    "collapsed": false
   }
  }
 ],
 "metadata": {
  "kernelspec": {
   "display_name": "Python 3",
   "language": "python",
   "name": "python3"
  },
  "language_info": {
   "codemirror_mode": {
    "name": "ipython",
    "version": 2
   },
   "file_extension": ".py",
   "mimetype": "text/x-python",
   "name": "python",
   "nbconvert_exporter": "python",
   "pygments_lexer": "ipython2",
   "version": "2.7.6"
  }
 },
 "nbformat": 4,
 "nbformat_minor": 0
}
