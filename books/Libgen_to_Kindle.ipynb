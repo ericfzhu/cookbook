{
 "cells": [
  {
   "cell_type": "code",
   "execution_count": 1,
   "outputs": [],
   "source": [
    "from modules.libgen import LibGen\n",
    "from modules.kindle import Kindle\n",
    "import os\n",
    "\n",
    "from dotenv import load_dotenv\n",
    "\n",
    "load_dotenv()\n",
    "SMTP_HOST = os.environ[\"SMTP_HOST\"]\n",
    "SMTP_PORT = os.environ[\"SMTP_PORT\"]\n",
    "EMAIL = os.environ[\"EMAIL\"]\n",
    "EMAIL_PASSWORD = os.environ[\"EMAIL_PASSWORD\"]\n",
    "EMAIL_TARGET = os.environ[\"EMAIL_TARGET\"]"
   ],
   "metadata": {
    "collapsed": false
   }
  },
  {
   "cell_type": "code",
   "execution_count": 6,
   "outputs": [
    {
     "data": {
      "text/plain": "[<modules.utils.LibGenBook at 0x1099d5510>,\n <modules.utils.LibGenBook at 0x106ae7f90>]"
     },
     "execution_count": 6,
     "metadata": {},
     "output_type": "execute_result"
    }
   ],
   "source": [
    "# Provide the query and search type for libgen\n",
    "query = \"Breath: The New Science of a Lost Art\"\n",
    "search_type = \"title\"\n",
    "\n",
    "libgen = LibGen(query, search_type)\n",
    "libgen.get_book_results()"
   ],
   "metadata": {
    "collapsed": false
   }
  },
  {
   "cell_type": "code",
   "execution_count": 7,
   "outputs": [
    {
     "data": {
      "text/plain": "['http://library.lol/main/8B5DD40B4A52F58C876F22625C4F9D2B',\n 'http://libgen.lc/ads.php?md5=8B5DD40B4A52F58C876F22625C4F9D2B',\n 'http://library.lol/main/12B515A8930E611487BAF9CBD7D1512D',\n 'http://libgen.lc/ads.php?md5=12B515A8930E611487BAF9CBD7D1512D']"
     },
     "execution_count": 7,
     "metadata": {},
     "output_type": "execute_result"
    }
   ],
   "source": [
    "libgen.get_download_links()"
   ],
   "metadata": {
    "collapsed": false
   }
  },
  {
   "cell_type": "code",
   "execution_count": 8,
   "outputs": [],
   "source": [
    "response = libgen.download_first()"
   ],
   "metadata": {
    "collapsed": false
   }
  },
  {
   "cell_type": "code",
   "execution_count": 9,
   "outputs": [],
   "source": [
    "kindle = Kindle(EMAIL, EMAIL_PASSWORD, SMTP_HOST, SMTP_PORT)\n",
    "kindle.send_book(EMAIL_TARGET, libgen.get_book_results()[0].title, response)"
   ],
   "metadata": {
    "collapsed": false
   }
  },
  {
   "cell_type": "code",
   "execution_count": null,
   "outputs": [],
   "source": [],
   "metadata": {
    "collapsed": false
   }
  }
 ],
 "metadata": {
  "kernelspec": {
   "display_name": "Python 3",
   "language": "python",
   "name": "python3"
  },
  "language_info": {
   "codemirror_mode": {
    "name": "ipython",
    "version": 2
   },
   "file_extension": ".py",
   "mimetype": "text/x-python",
   "name": "python",
   "nbconvert_exporter": "python",
   "pygments_lexer": "ipython2",
   "version": "2.7.6"
  }
 },
 "nbformat": 4,
 "nbformat_minor": 0
}
