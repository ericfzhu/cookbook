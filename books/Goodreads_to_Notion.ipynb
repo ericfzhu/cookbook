{
 "cells": [
  {
   "cell_type": "code",
   "execution_count": 9,
   "outputs": [
    {
     "name": "stdout",
     "output_type": "stream",
     "text": [
      "Name: Machine Learning Design Patterns: Solutions to Common Challenges in Data Preparation, Model Building, and MLOps\n",
      "Image: https://images-na.ssl-images-amazon.com/images/S/compressed.photo.goodreads.com/books/1599583594i/55275019.jpg\n",
      "Format: Paperback\n",
      "Number of pages: 400\n",
      "Language: English\n",
      "ISBN: 9781098115784\n",
      "Rating: 4.2\n",
      "Number of ratings: 147\n",
      "Number of reviews: 21\n",
      "Authors: ['Valliappa Lakshmanan', 'Sara Robinson', 'Michael Munn']\n"
     ]
    }
   ],
   "source": [
    "import sys\n",
    "\n",
    "sys.path.append('modules/')\n",
    "from modules import goodreads, notion\n",
    "\n",
    "# Provide the Goodreads URL to capture the metadata for\n",
    "URL = \"https://www.goodreads.com/book/show/55275019-machine-learning-design-patterns?ref=nav_sb_ss_1_111\"\n",
    "\n",
    "book = await goodreads.async_get_book_metadata(URL, verbose=True)"
   ],
   "metadata": {
    "collapsed": false
   }
  },
  {
   "cell_type": "code",
   "execution_count": 12,
   "outputs": [
    {
     "data": {
      "text/plain": "<Response [400]>"
     },
     "execution_count": 12,
     "metadata": {},
     "output_type": "execute_result"
    }
   ],
   "source": [
    "notion.post_book_from_goodreads(book)"
   ],
   "metadata": {
    "collapsed": false
   }
  },
  {
   "cell_type": "code",
   "execution_count": 20,
   "outputs": [
    {
     "ename": "HTTPError",
     "evalue": "HTTP Error 406: Not Acceptable",
     "output_type": "error",
     "traceback": [
      "\u001B[0;31m---------------------------------------------------------------------------\u001B[0m",
      "\u001B[0;31mHTTPError\u001B[0m                                 Traceback (most recent call last)",
      "Cell \u001B[0;32mIn[20], line 4\u001B[0m\n\u001B[1;32m      1\u001B[0m \u001B[38;5;28;01mfrom\u001B[39;00m \u001B[38;5;21;01mrdflib\u001B[39;00m \u001B[38;5;28;01mimport\u001B[39;00m Graph\n\u001B[1;32m      3\u001B[0m graph \u001B[38;5;241m=\u001B[39m Graph()\n\u001B[0;32m----> 4\u001B[0m \u001B[43mgraph\u001B[49m\u001B[38;5;241;43m.\u001B[39;49m\u001B[43mparse\u001B[49m\u001B[43m(\u001B[49m\u001B[43mURL\u001B[49m\u001B[43m)\u001B[49m\n",
      "File \u001B[0;32m~/.local/share/virtualenvs/knowledge-toolkit-VJMUfH12/lib/python3.11/site-packages/rdflib/graph.py:1306\u001B[0m, in \u001B[0;36mGraph.parse\u001B[0;34m(self, source, publicID, format, location, file, data, **args)\u001B[0m\n\u001B[1;32m   1223\u001B[0m \u001B[38;5;28;01mdef\u001B[39;00m \u001B[38;5;21mparse\u001B[39m(\n\u001B[1;32m   1224\u001B[0m     \u001B[38;5;28mself\u001B[39m,\n\u001B[1;32m   1225\u001B[0m     source: Optional[\n\u001B[0;32m   (...)\u001B[0m\n\u001B[1;32m   1233\u001B[0m     \u001B[38;5;241m*\u001B[39m\u001B[38;5;241m*\u001B[39margs,\n\u001B[1;32m   1234\u001B[0m ):\n\u001B[1;32m   1235\u001B[0m     \u001B[38;5;124;03m\"\"\"\u001B[39;00m\n\u001B[1;32m   1236\u001B[0m \u001B[38;5;124;03m    Parse an RDF source adding the resulting triples to the Graph.\u001B[39;00m\n\u001B[1;32m   1237\u001B[0m \n\u001B[0;32m   (...)\u001B[0m\n\u001B[1;32m   1303\u001B[0m \n\u001B[1;32m   1304\u001B[0m \u001B[38;5;124;03m    \"\"\"\u001B[39;00m\n\u001B[0;32m-> 1306\u001B[0m     source \u001B[38;5;241m=\u001B[39m \u001B[43mcreate_input_source\u001B[49m\u001B[43m(\u001B[49m\n\u001B[1;32m   1307\u001B[0m \u001B[43m        \u001B[49m\u001B[43msource\u001B[49m\u001B[38;5;241;43m=\u001B[39;49m\u001B[43msource\u001B[49m\u001B[43m,\u001B[49m\n\u001B[1;32m   1308\u001B[0m \u001B[43m        \u001B[49m\u001B[43mpublicID\u001B[49m\u001B[38;5;241;43m=\u001B[39;49m\u001B[43mpublicID\u001B[49m\u001B[43m,\u001B[49m\n\u001B[1;32m   1309\u001B[0m \u001B[43m        \u001B[49m\u001B[43mlocation\u001B[49m\u001B[38;5;241;43m=\u001B[39;49m\u001B[43mlocation\u001B[49m\u001B[43m,\u001B[49m\n\u001B[1;32m   1310\u001B[0m \u001B[43m        \u001B[49m\u001B[43mfile\u001B[49m\u001B[38;5;241;43m=\u001B[39;49m\u001B[43mfile\u001B[49m\u001B[43m,\u001B[49m\n\u001B[1;32m   1311\u001B[0m \u001B[43m        \u001B[49m\u001B[43mdata\u001B[49m\u001B[38;5;241;43m=\u001B[39;49m\u001B[43mdata\u001B[49m\u001B[43m,\u001B[49m\n\u001B[1;32m   1312\u001B[0m \u001B[43m        \u001B[49m\u001B[38;5;28;43mformat\u001B[39;49m\u001B[38;5;241;43m=\u001B[39;49m\u001B[38;5;28;43mformat\u001B[39;49m\u001B[43m,\u001B[49m\n\u001B[1;32m   1313\u001B[0m \u001B[43m    \u001B[49m\u001B[43m)\u001B[49m\n\u001B[1;32m   1314\u001B[0m     \u001B[38;5;28;01mif\u001B[39;00m \u001B[38;5;28mformat\u001B[39m \u001B[38;5;129;01mis\u001B[39;00m \u001B[38;5;28;01mNone\u001B[39;00m:\n\u001B[1;32m   1315\u001B[0m         \u001B[38;5;28mformat\u001B[39m \u001B[38;5;241m=\u001B[39m source\u001B[38;5;241m.\u001B[39mcontent_type\n",
      "File \u001B[0;32m~/.local/share/virtualenvs/knowledge-toolkit-VJMUfH12/lib/python3.11/site-packages/rdflib/parser.py:404\u001B[0m, in \u001B[0;36mcreate_input_source\u001B[0;34m(source, publicID, location, file, data, format)\u001B[0m\n\u001B[1;32m    396\u001B[0m auto_close \u001B[38;5;241m=\u001B[39m \u001B[38;5;28;01mFalse\u001B[39;00m  \u001B[38;5;66;03m# make sure we close all file handles we open\u001B[39;00m\n\u001B[1;32m    398\u001B[0m \u001B[38;5;28;01mif\u001B[39;00m location \u001B[38;5;129;01mis\u001B[39;00m \u001B[38;5;129;01mnot\u001B[39;00m \u001B[38;5;28;01mNone\u001B[39;00m:\n\u001B[1;32m    399\u001B[0m     (\n\u001B[1;32m    400\u001B[0m         absolute_location,\n\u001B[1;32m    401\u001B[0m         auto_close,\n\u001B[1;32m    402\u001B[0m         file,\n\u001B[1;32m    403\u001B[0m         input_source,\n\u001B[0;32m--> 404\u001B[0m     ) \u001B[38;5;241m=\u001B[39m \u001B[43m_create_input_source_from_location\u001B[49m\u001B[43m(\u001B[49m\n\u001B[1;32m    405\u001B[0m \u001B[43m        \u001B[49m\u001B[43mfile\u001B[49m\u001B[38;5;241;43m=\u001B[39;49m\u001B[43mfile\u001B[49m\u001B[43m,\u001B[49m\n\u001B[1;32m    406\u001B[0m \u001B[43m        \u001B[49m\u001B[38;5;28;43mformat\u001B[39;49m\u001B[38;5;241;43m=\u001B[39;49m\u001B[38;5;28;43mformat\u001B[39;49m\u001B[43m,\u001B[49m\n\u001B[1;32m    407\u001B[0m \u001B[43m        \u001B[49m\u001B[43minput_source\u001B[49m\u001B[38;5;241;43m=\u001B[39;49m\u001B[43minput_source\u001B[49m\u001B[43m,\u001B[49m\n\u001B[1;32m    408\u001B[0m \u001B[43m        \u001B[49m\u001B[43mlocation\u001B[49m\u001B[38;5;241;43m=\u001B[39;49m\u001B[43mlocation\u001B[49m\u001B[43m,\u001B[49m\n\u001B[1;32m    409\u001B[0m \u001B[43m    \u001B[49m\u001B[43m)\u001B[49m\n\u001B[1;32m    411\u001B[0m \u001B[38;5;28;01mif\u001B[39;00m file \u001B[38;5;129;01mis\u001B[39;00m \u001B[38;5;129;01mnot\u001B[39;00m \u001B[38;5;28;01mNone\u001B[39;00m:\n\u001B[1;32m    412\u001B[0m     input_source \u001B[38;5;241m=\u001B[39m FileInputSource(file)\n",
      "File \u001B[0;32m~/.local/share/virtualenvs/knowledge-toolkit-VJMUfH12/lib/python3.11/site-packages/rdflib/parser.py:458\u001B[0m, in \u001B[0;36m_create_input_source_from_location\u001B[0;34m(file, format, input_source, location)\u001B[0m\n\u001B[1;32m    456\u001B[0m     file \u001B[38;5;241m=\u001B[39m \u001B[38;5;28mopen\u001B[39m(filename, \u001B[38;5;124m\"\u001B[39m\u001B[38;5;124mrb\u001B[39m\u001B[38;5;124m\"\u001B[39m)\n\u001B[1;32m    457\u001B[0m \u001B[38;5;28;01melse\u001B[39;00m:\n\u001B[0;32m--> 458\u001B[0m     input_source \u001B[38;5;241m=\u001B[39m \u001B[43mURLInputSource\u001B[49m\u001B[43m(\u001B[49m\u001B[43mabsolute_location\u001B[49m\u001B[43m,\u001B[49m\u001B[43m \u001B[49m\u001B[38;5;28;43mformat\u001B[39;49m\u001B[43m)\u001B[49m\n\u001B[1;32m    460\u001B[0m auto_close \u001B[38;5;241m=\u001B[39m \u001B[38;5;28;01mTrue\u001B[39;00m\n\u001B[1;32m    461\u001B[0m \u001B[38;5;66;03m# publicID = publicID or absolute_location  # Further to fix\u001B[39;00m\n\u001B[1;32m    462\u001B[0m \u001B[38;5;66;03m# for issue 130\u001B[39;00m\n",
      "File \u001B[0;32m~/.local/share/virtualenvs/knowledge-toolkit-VJMUfH12/lib/python3.11/site-packages/rdflib/parser.py:282\u001B[0m, in \u001B[0;36mURLInputSource.__init__\u001B[0;34m(self, system_id, format)\u001B[0m\n\u001B[1;32m    279\u001B[0m         \u001B[38;5;28;01melse\u001B[39;00m:\n\u001B[1;32m    280\u001B[0m             \u001B[38;5;28;01mraise\u001B[39;00m\n\u001B[0;32m--> 282\u001B[0m response: HTTPResponse \u001B[38;5;241m=\u001B[39m \u001B[43m_urlopen\u001B[49m\u001B[43m(\u001B[49m\u001B[43mreq\u001B[49m\u001B[43m)\u001B[49m\n\u001B[1;32m    283\u001B[0m \u001B[38;5;28mself\u001B[39m\u001B[38;5;241m.\u001B[39murl \u001B[38;5;241m=\u001B[39m response\u001B[38;5;241m.\u001B[39mgeturl()  \u001B[38;5;66;03m# in case redirections took place\u001B[39;00m\n\u001B[1;32m    284\u001B[0m \u001B[38;5;28mself\u001B[39m\u001B[38;5;241m.\u001B[39mlinks \u001B[38;5;241m=\u001B[39m \u001B[38;5;28mself\u001B[39m\u001B[38;5;241m.\u001B[39mget_links(response)\n",
      "File \u001B[0;32m~/.local/share/virtualenvs/knowledge-toolkit-VJMUfH12/lib/python3.11/site-packages/rdflib/parser.py:270\u001B[0m, in \u001B[0;36mURLInputSource.__init__.<locals>._urlopen\u001B[0;34m(req)\u001B[0m\n\u001B[1;32m    268\u001B[0m \u001B[38;5;28;01mdef\u001B[39;00m \u001B[38;5;21m_urlopen\u001B[39m(req: Request) \u001B[38;5;241m-\u001B[39m\u001B[38;5;241m>\u001B[39m Any:\n\u001B[1;32m    269\u001B[0m     \u001B[38;5;28;01mtry\u001B[39;00m:\n\u001B[0;32m--> 270\u001B[0m         \u001B[38;5;28;01mreturn\u001B[39;00m \u001B[43murlopen\u001B[49m\u001B[43m(\u001B[49m\u001B[43mreq\u001B[49m\u001B[43m)\u001B[49m\n\u001B[1;32m    271\u001B[0m     \u001B[38;5;28;01mexcept\u001B[39;00m HTTPError \u001B[38;5;28;01mas\u001B[39;00m ex:\n\u001B[1;32m    272\u001B[0m         \u001B[38;5;66;03m# 308 (Permanent Redirect) is not supported by current python version(s)\u001B[39;00m\n\u001B[1;32m    273\u001B[0m         \u001B[38;5;66;03m# See https://bugs.python.org/issue40321\u001B[39;00m\n\u001B[1;32m    274\u001B[0m         \u001B[38;5;66;03m# This custom error handling should be removed once all\u001B[39;00m\n\u001B[1;32m    275\u001B[0m         \u001B[38;5;66;03m# supported versions of python support 308.\u001B[39;00m\n\u001B[1;32m    276\u001B[0m         \u001B[38;5;28;01mif\u001B[39;00m ex\u001B[38;5;241m.\u001B[39mcode \u001B[38;5;241m==\u001B[39m \u001B[38;5;241m308\u001B[39m:\n",
      "File \u001B[0;32m/Library/Frameworks/Python.framework/Versions/3.11/lib/python3.11/urllib/request.py:216\u001B[0m, in \u001B[0;36murlopen\u001B[0;34m(url, data, timeout, cafile, capath, cadefault, context)\u001B[0m\n\u001B[1;32m    214\u001B[0m \u001B[38;5;28;01melse\u001B[39;00m:\n\u001B[1;32m    215\u001B[0m     opener \u001B[38;5;241m=\u001B[39m _opener\n\u001B[0;32m--> 216\u001B[0m \u001B[38;5;28;01mreturn\u001B[39;00m \u001B[43mopener\u001B[49m\u001B[38;5;241;43m.\u001B[39;49m\u001B[43mopen\u001B[49m\u001B[43m(\u001B[49m\u001B[43murl\u001B[49m\u001B[43m,\u001B[49m\u001B[43m \u001B[49m\u001B[43mdata\u001B[49m\u001B[43m,\u001B[49m\u001B[43m \u001B[49m\u001B[43mtimeout\u001B[49m\u001B[43m)\u001B[49m\n",
      "File \u001B[0;32m/Library/Frameworks/Python.framework/Versions/3.11/lib/python3.11/urllib/request.py:525\u001B[0m, in \u001B[0;36mOpenerDirector.open\u001B[0;34m(self, fullurl, data, timeout)\u001B[0m\n\u001B[1;32m    523\u001B[0m \u001B[38;5;28;01mfor\u001B[39;00m processor \u001B[38;5;129;01min\u001B[39;00m \u001B[38;5;28mself\u001B[39m\u001B[38;5;241m.\u001B[39mprocess_response\u001B[38;5;241m.\u001B[39mget(protocol, []):\n\u001B[1;32m    524\u001B[0m     meth \u001B[38;5;241m=\u001B[39m \u001B[38;5;28mgetattr\u001B[39m(processor, meth_name)\n\u001B[0;32m--> 525\u001B[0m     response \u001B[38;5;241m=\u001B[39m \u001B[43mmeth\u001B[49m\u001B[43m(\u001B[49m\u001B[43mreq\u001B[49m\u001B[43m,\u001B[49m\u001B[43m \u001B[49m\u001B[43mresponse\u001B[49m\u001B[43m)\u001B[49m\n\u001B[1;32m    527\u001B[0m \u001B[38;5;28;01mreturn\u001B[39;00m response\n",
      "File \u001B[0;32m/Library/Frameworks/Python.framework/Versions/3.11/lib/python3.11/urllib/request.py:634\u001B[0m, in \u001B[0;36mHTTPErrorProcessor.http_response\u001B[0;34m(self, request, response)\u001B[0m\n\u001B[1;32m    631\u001B[0m \u001B[38;5;66;03m# According to RFC 2616, \"2xx\" code indicates that the client's\u001B[39;00m\n\u001B[1;32m    632\u001B[0m \u001B[38;5;66;03m# request was successfully received, understood, and accepted.\u001B[39;00m\n\u001B[1;32m    633\u001B[0m \u001B[38;5;28;01mif\u001B[39;00m \u001B[38;5;129;01mnot\u001B[39;00m (\u001B[38;5;241m200\u001B[39m \u001B[38;5;241m<\u001B[39m\u001B[38;5;241m=\u001B[39m code \u001B[38;5;241m<\u001B[39m \u001B[38;5;241m300\u001B[39m):\n\u001B[0;32m--> 634\u001B[0m     response \u001B[38;5;241m=\u001B[39m \u001B[38;5;28;43mself\u001B[39;49m\u001B[38;5;241;43m.\u001B[39;49m\u001B[43mparent\u001B[49m\u001B[38;5;241;43m.\u001B[39;49m\u001B[43merror\u001B[49m\u001B[43m(\u001B[49m\n\u001B[1;32m    635\u001B[0m \u001B[43m        \u001B[49m\u001B[38;5;124;43m'\u001B[39;49m\u001B[38;5;124;43mhttp\u001B[39;49m\u001B[38;5;124;43m'\u001B[39;49m\u001B[43m,\u001B[49m\u001B[43m \u001B[49m\u001B[43mrequest\u001B[49m\u001B[43m,\u001B[49m\u001B[43m \u001B[49m\u001B[43mresponse\u001B[49m\u001B[43m,\u001B[49m\u001B[43m \u001B[49m\u001B[43mcode\u001B[49m\u001B[43m,\u001B[49m\u001B[43m \u001B[49m\u001B[43mmsg\u001B[49m\u001B[43m,\u001B[49m\u001B[43m \u001B[49m\u001B[43mhdrs\u001B[49m\u001B[43m)\u001B[49m\n\u001B[1;32m    637\u001B[0m \u001B[38;5;28;01mreturn\u001B[39;00m response\n",
      "File \u001B[0;32m/Library/Frameworks/Python.framework/Versions/3.11/lib/python3.11/urllib/request.py:563\u001B[0m, in \u001B[0;36mOpenerDirector.error\u001B[0;34m(self, proto, *args)\u001B[0m\n\u001B[1;32m    561\u001B[0m \u001B[38;5;28;01mif\u001B[39;00m http_err:\n\u001B[1;32m    562\u001B[0m     args \u001B[38;5;241m=\u001B[39m (\u001B[38;5;28mdict\u001B[39m, \u001B[38;5;124m'\u001B[39m\u001B[38;5;124mdefault\u001B[39m\u001B[38;5;124m'\u001B[39m, \u001B[38;5;124m'\u001B[39m\u001B[38;5;124mhttp_error_default\u001B[39m\u001B[38;5;124m'\u001B[39m) \u001B[38;5;241m+\u001B[39m orig_args\n\u001B[0;32m--> 563\u001B[0m     \u001B[38;5;28;01mreturn\u001B[39;00m \u001B[38;5;28;43mself\u001B[39;49m\u001B[38;5;241;43m.\u001B[39;49m\u001B[43m_call_chain\u001B[49m\u001B[43m(\u001B[49m\u001B[38;5;241;43m*\u001B[39;49m\u001B[43margs\u001B[49m\u001B[43m)\u001B[49m\n",
      "File \u001B[0;32m/Library/Frameworks/Python.framework/Versions/3.11/lib/python3.11/urllib/request.py:496\u001B[0m, in \u001B[0;36mOpenerDirector._call_chain\u001B[0;34m(self, chain, kind, meth_name, *args)\u001B[0m\n\u001B[1;32m    494\u001B[0m \u001B[38;5;28;01mfor\u001B[39;00m handler \u001B[38;5;129;01min\u001B[39;00m handlers:\n\u001B[1;32m    495\u001B[0m     func \u001B[38;5;241m=\u001B[39m \u001B[38;5;28mgetattr\u001B[39m(handler, meth_name)\n\u001B[0;32m--> 496\u001B[0m     result \u001B[38;5;241m=\u001B[39m \u001B[43mfunc\u001B[49m\u001B[43m(\u001B[49m\u001B[38;5;241;43m*\u001B[39;49m\u001B[43margs\u001B[49m\u001B[43m)\u001B[49m\n\u001B[1;32m    497\u001B[0m     \u001B[38;5;28;01mif\u001B[39;00m result \u001B[38;5;129;01mis\u001B[39;00m \u001B[38;5;129;01mnot\u001B[39;00m \u001B[38;5;28;01mNone\u001B[39;00m:\n\u001B[1;32m    498\u001B[0m         \u001B[38;5;28;01mreturn\u001B[39;00m result\n",
      "File \u001B[0;32m/Library/Frameworks/Python.framework/Versions/3.11/lib/python3.11/urllib/request.py:643\u001B[0m, in \u001B[0;36mHTTPDefaultErrorHandler.http_error_default\u001B[0;34m(self, req, fp, code, msg, hdrs)\u001B[0m\n\u001B[1;32m    642\u001B[0m \u001B[38;5;28;01mdef\u001B[39;00m \u001B[38;5;21mhttp_error_default\u001B[39m(\u001B[38;5;28mself\u001B[39m, req, fp, code, msg, hdrs):\n\u001B[0;32m--> 643\u001B[0m     \u001B[38;5;28;01mraise\u001B[39;00m HTTPError(req\u001B[38;5;241m.\u001B[39mfull_url, code, msg, hdrs, fp)\n",
      "\u001B[0;31mHTTPError\u001B[0m: HTTP Error 406: Not Acceptable"
     ]
    }
   ],
   "source": [
    "from pyld import jsonld\n",
    "\n",
    "jsonld.set_document_loader(jsonld.requests_document_loader())"
   ],
   "metadata": {
    "collapsed": false
   }
  },
  {
   "cell_type": "code",
   "execution_count": 5,
   "outputs": [
    {
     "name": "stdout",
     "output_type": "stream",
     "text": [
      "{'@context': 'https://schema.org', '@type': 'Book', 'name': 'The Hunger Games (The Hunger Games, #1)', 'image': 'https://images-na.ssl-images-amazon.com/images/S/compressed.photo.goodreads.com/books/1586722975i/2767052.jpg', 'bookFormat': 'Hardcover', 'numberOfPages': 374, 'inLanguage': 'English', 'isbn': '9780439023481', 'awards': 'Locus Award Best Young Adult Book (2009), Georgia Peach Book Award (2009), Buxtehuder Bulle (2009), Golden Duck Award Young Adult (Hal Clement Award) (2009), Grand Prix de l&apos;Imaginaire Roman jeunesse étranger (2010), Books I Loved Best Yearly (BILBY) Awards Older Readers (2012), West Australian Young Readers&apos; Book Award (WAYRBA) Older Readers (2010), Red House Children&apos;s Book Award Older Readers &amp; Overall (2010), South Carolina Book Award Junior and Young Adult Book (2011), Charlotte Award (2010), Colorado Blue Spruce Young Adult Book Award (2010), Teen Buckeye Book Award (2009), Pennsylvania Young Readers&apos; Choice Award Young Adults (2010), Rhode Island Teen Book Award (2010), Vermont Golden Dome Book Award (2010), Evergreen Teen Book Award (2011), Soaring Eagle Book Award (2009), Milwaukee County Teen Book Award (2010), Sakura Medal Middle School Book (2010), Michigan Library Association Thumbs Up! Award (2009), Florida Teens Read (2009), Deutscher Jugendliteraturpreis Preis der Jugendjury (2010), Iowa High School Book Award (2011), New Mexico Land of Enchantment Award Young Adult (2011), Eliot Rosewater Indiana High School Book Award (2010), The Inky Awards Silver Inky (2009), California Young Readers Medal Young Adult (2011), Lincoln Award (2011), Kinderboekwinkelprijs (2010), Truman Readers Award (2011), CYBILS Award Young Adult Fantasy &amp; Science Fiction (2008), Literaturpreis der Jury der jungen Leser Jugendbuch (2010), The Inky Awards Shortlist Silver Inky (2009), Prix Et-lisez-moi (2011), Gateway Readers Award (2011), Oklahoma Sequoyah Award High School and Intermediate (2011), Premio El Templo de las Mil Puertas Mejor novela extranjera perteneciente a saga (2009), Rebecca Caudill Young Readers&apos; Book Award (2011), LovelyBooks Leserpreis Fantasy (2009), LovelyBooks Leserpreis for Bestes Cover/Umschlag (2009), Premi Protagonista Jove Categoria 13-14 anys (2010)', 'author': [{'@type': 'Person', 'name': 'Suzanne Collins', 'url': 'https://www.goodreads.com/author/show/153394.Suzanne_Collins'}], 'aggregateRating': {'@type': 'AggregateRating', 'ratingValue': 4.32, 'ratingCount': 7691182, 'reviewCount': 189112}}\n"
     ]
    }
   ],
   "source": [
    "import requests\n",
    "from bs4 import BeautifulSoup\n",
    "import json\n",
    "\n",
    "url = 'https://www.goodreads.com/book/show/2767052-the-hunger-games?ac=1&from_search=true&qid=xU6EjUHrXF&rank=2'\n",
    "\n",
    "# Set the maximum number of retries\n",
    "max_retries = 5\n",
    "\n",
    "# Set the initial number of retries to 0\n",
    "retries = 0\n",
    "\n",
    "# Set the flag to indicate whether the JSON-LD data has been found\n",
    "json_ld_found = False\n",
    "\n",
    "# Continue to send the request until the JSON-LD data is found or the maximum number of retries has been reached\n",
    "while not json_ld_found and retries < max_retries:\n",
    "    # Send an HTTP request to the webpage\n",
    "    response = requests.get(url)\n",
    "\n",
    "    # Parse the HTML content\n",
    "    soup = BeautifulSoup(response.text, 'html.parser')\n",
    "\n",
    "    # Find the script element that contains the JSON-LD data\n",
    "    json_ld = None\n",
    "    for script in soup.find_all('script'):\n",
    "        if script.get('type') == 'application/ld+json':\n",
    "            json_ld = script.text\n",
    "\n",
    "    # If the JSON-LD data was found, set the flag to True\n",
    "    if json_ld:\n",
    "        json_ld_found = True\n",
    "    else:\n",
    "        # If the JSON-LD data was not found, increment the number of retries\n",
    "        retries += 1\n",
    "\n",
    "# If the JSON-LD data was found, extract and parse it\n",
    "if json_ld_found:\n",
    "    data = json.loads(json_ld)\n",
    "    print(data)\n",
    "else:\n",
    "    print('Unable to find JSON-LD data after {} retries'.format(max_retries))\n"
   ],
   "metadata": {
    "collapsed": false
   }
  },
  {
   "cell_type": "code",
   "execution_count": 2,
   "outputs": [],
   "source": [],
   "metadata": {
    "collapsed": false
   }
  }
 ],
 "metadata": {
  "kernelspec": {
   "display_name": "Python 3",
   "language": "python",
   "name": "python3"
  },
  "language_info": {
   "codemirror_mode": {
    "name": "ipython",
    "version": 2
   },
   "file_extension": ".py",
   "mimetype": "text/x-python",
   "name": "python",
   "nbconvert_exporter": "python",
   "pygments_lexer": "ipython2",
   "version": "2.7.6"
  }
 },
 "nbformat": 4,
 "nbformat_minor": 0
}
