{
 "cells": [
  {
   "cell_type": "code",
   "execution_count": 90,
   "outputs": [
    {
     "name": "stdout",
     "output_type": "stream",
     "text": [
      "Name: Machine Learning Design Patterns: Solutions to Common Challenges in Data Preparation, Model Building, and MLOps\n",
      "Image: https://images-na.ssl-images-amazon.com/images/S/compressed.photo.goodreads.com/books/1599583594i/55275019.jpg\n",
      "Format: Paperback\n",
      "Number of pages: 400\n",
      "Language: English\n",
      "ISBN: 9781098115784\n",
      "Rating: 4.2\n",
      "Number of ratings: 146\n",
      "Number of reviews: 21\n",
      "Authors: ['Valliappa Lakshmanan', 'Sara Robinson', 'Michael Munn']\n"
     ]
    }
   ],
   "source": [
    "import requests\n",
    "from bs4 import BeautifulSoup\n",
    "import json\n",
    "\n",
    "from books.modules import goodreads, notion\n",
    "\n",
    "# Provide the Goodreads URL to capture the metadata for\n",
    "URL = \"https://www.goodreads.com/book/show/55275019-machine-learning-design-patterns?ref=nav_sb_ss_1_111\"\n",
    "\n",
    "r = requests.get(URL)\n",
    "soup = BeautifulSoup(r.text, \"html.parser\")\n",
    "script = soup.find('script', {'type': 'application/ld+json'}).text\n",
    "\n",
    "# Parse the JSON data\n",
    "data = json.loads(script)\n",
    "\n",
    "# Extract the metadata for the book from the JSON data\n",
    "name = data['name']\n",
    "image = data['image']\n",
    "book_format = data['bookFormat']\n",
    "num_pages = data['numberOfPages']\n",
    "language = data['inLanguage']\n",
    "isbn = data['isbn']\n",
    "rating = data['aggregateRating']['ratingValue']\n",
    "rating_count = data['aggregateRating']['ratingCount']\n",
    "review_count = data['aggregateRating']['reviewCount']\n",
    "authors = [author['name'] for author in data['author']]\n",
    "\n",
    "# Print the metadata for the book\n",
    "print(f'Name: {name}')\n",
    "print(f'Image: {image}')\n",
    "print(f'Format: {book_format}')\n",
    "print(f'Number of pages: {num_pages}')\n",
    "print(f'Language: {language}')\n",
    "print(f'ISBN: {isbn}')\n",
    "print(f'Rating: {rating}')\n",
    "print(f'Number of ratings: {rating_count}')\n",
    "print(f'Number of reviews: {review_count}')\n",
    "print(f'Authors: {authors}')\n",
    "import urllib.parse\n",
    "\n",
    "'.'.join(urllib.parse.urlparse(URL).hostname.split('.')[-2:])"
   ],
   "metadata": {
    "collapsed": false
   }
  },
  {
   "cell_type": "code",
   "execution_count": 95,
   "outputs": [
    {
     "name": "stdout",
     "output_type": "stream",
     "text": [
      "The URL https://www.example.com/path/to/page is from the domain example.com\n"
     ]
    }
   ],
   "source": [
    "# Set the URL you want to check\n",
    "url = 'https://www.example.com/path/to/page'\n",
    "\n",
    "# Set the domain you want to check against\n",
    "domain = 'example.com'\n",
    "\n",
    "# Parse the URL and extract the domain\n",
    "parsed_url = urllib.parse.urlparse(url)\n",
    "url_domain = parsed_url.hostname\n",
    "\n",
    "# Strip the subdomain from the domain\n",
    "url_domain_parts = url_domain.split('.')\n",
    "stripped_url_domain = '.'.join(url_domain_parts[-2:])\n",
    "\n",
    "\n",
    "# Check if the domain of the URL matches the desired domain\n",
    "if stripped_url_domain == domain:\n",
    "    print(f'The URL {url} is from the domain {domain}')\n",
    "else:\n",
    "    print(f'The URL {url} is NOT from the domain {domain}')"
   ],
   "metadata": {
    "collapsed": false
   }
  },
  {
   "cell_type": "code",
   "execution_count": null,
   "outputs": [],
   "source": [],
   "metadata": {
    "collapsed": false
   }
  }
 ],
 "metadata": {
  "kernelspec": {
   "display_name": "Python 3",
   "language": "python",
   "name": "python3"
  },
  "language_info": {
   "codemirror_mode": {
    "name": "ipython",
    "version": 2
   },
   "file_extension": ".py",
   "mimetype": "text/x-python",
   "name": "python",
   "nbconvert_exporter": "python",
   "pygments_lexer": "ipython2",
   "version": "2.7.6"
  }
 },
 "nbformat": 4,
 "nbformat_minor": 0
}
