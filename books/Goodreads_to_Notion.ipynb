{
 "cells": [
  {
   "cell_type": "code",
   "execution_count": 9,
   "outputs": [
    {
     "name": "stdout",
     "output_type": "stream",
     "text": [
      "Name: Machine Learning Design Patterns: Solutions to Common Challenges in Data Preparation, Model Building, and MLOps\n",
      "Image: https://images-na.ssl-images-amazon.com/images/S/compressed.photo.goodreads.com/books/1599583594i/55275019.jpg\n",
      "Format: Paperback\n",
      "Number of pages: 400\n",
      "Language: English\n",
      "ISBN: 9781098115784\n",
      "Rating: 4.2\n",
      "Number of ratings: 147\n",
      "Number of reviews: 21\n",
      "Authors: ['Valliappa Lakshmanan', 'Sara Robinson', 'Michael Munn']\n"
     ]
    }
   ],
   "source": [
    "import sys\n",
    "\n",
    "sys.path.append('modules/')\n",
    "from modules import goodreads, notion\n",
    "\n",
    "# Provide the Goodreads URL to capture the metadata for\n",
    "URL = \"https://www.goodreads.com/book/show/55275019-machine-learning-design-patterns?ref=nav_sb_ss_1_111\"\n",
    "\n",
    "book = await goodreads.async_get_book_metadata(URL, verbose=True)"
   ],
   "metadata": {
    "collapsed": false
   }
  },
  {
   "cell_type": "code",
   "execution_count": 12,
   "outputs": [
    {
     "data": {
      "text/plain": "<Response [400]>"
     },
     "execution_count": 12,
     "metadata": {},
     "output_type": "execute_result"
    }
   ],
   "source": [
    "notion.post_book_from_goodreads(book)"
   ],
   "metadata": {
    "collapsed": false
   }
  },
  {
   "cell_type": "code",
   "execution_count": null,
   "outputs": [],
   "source": [
    "import scrapy\n",
    "from scrapy.crawler import CrawlerProcess, CrawlerRunner\n",
    "from multiprocessing import Process, Queue\n",
    "from twisted.internet import reactor\n",
    "\n",
    "class GoodreadsSpider(scrapy.Spider):\n",
    "    name = 'goodreads'\n",
    "    start_urls = ['https://www.goodreads.com/book/show/55275019-machine-learning-design-patterns?ref=nav_sb_ss_1_111']\n",
    "\n",
    "    def parse(self, response):\n",
    "        book_title = response.css('#bookTitle::text').get()\n",
    "        book_author = response.css('a.authorName>span::text').get()\n",
    "        book_cover = response.css('.bookCover::attr(src)').get()\n",
    "        book_rating = response.css('span[itemprop=ratingValue]::text').get()\n",
    "        book_isbn = response.css('div.infoBoxRowItem[itemprop=isbn]::text').get()\n",
    "        book_language = response.css('div[itemprop=inLanguage]::text').get()\n",
    "\n",
    "        print(book_title)\n",
    "        print(book_author)\n",
    "        print(book_cover)\n",
    "        yield {\n",
    "            'title': book_title,\n",
    "            'author': book_author,\n",
    "            'cover': book_cover,\n",
    "            'rating': book_rating,\n",
    "            'isbn': book_isbn,\n",
    "            'language': book_language\n",
    "        }\n",
    "\n",
    "\n",
    "# def f(q, spider):\n",
    "#     try:\n",
    "#         runner = CrawlerRunner()\n",
    "#         deferred = runner.crawl(spider)\n",
    "#         deferred.addBoth(lambda _: reactor.stop())\n",
    "#         reactor.run()\n",
    "#         q.put(None)\n",
    "#     except Exception as e:\n",
    "#         q.put(e)\n",
    "#\n",
    "#     return q\n",
    "\n",
    "# the wrapper to make it run more times\n",
    "# def run_spider(spider):\n",
    "#\n",
    "#     queue = Queue()\n",
    "#     process = Process(target=f, args=(queue, spider))\n",
    "#     process.start()\n",
    "#     result = queue.get()\n",
    "#     process.join()\n",
    "#\n",
    "#     if result is not None:\n",
    "#         raise result\n",
    "\n",
    "# Run the spider\n",
    "# run_spider(GoodreadsSpider)\n",
    "process = CrawlerProcess()\n",
    "process.crawl(GoodreadsSpider)\n",
    "process.start()\n"
   ],
   "metadata": {
    "collapsed": false
   }
  },
  {
   "cell_type": "code",
   "execution_count": null,
   "outputs": [],
   "source": [
    "from requests_html import AsyncHTMLSession\n",
    "from bs4 import BeautifulSoup\n",
    "\n",
    "\n",
    "URL = \"https://www.goodreads.com/book/show/55275019-machine-learning-design-patterns?ref=nav_sb_ss_1_111\"\n",
    "\n",
    "asession = AsyncHTMLSession()\n",
    "r = await asession.get(URL)\n",
    "await r.html.arender()\n",
    "\n",
    "soup = BeautifulSoup(r.html.raw_html, \"lxml\")"
   ],
   "metadata": {
    "collapsed": false
   }
  },
  {
   "cell_type": "code",
   "execution_count": null,
   "outputs": [],
   "source": [
    "from modules.utils import GoodReadBook\n",
    "import json\n",
    "script = soup.find('script', {'type': 'application/ld+json'}).text\n",
    "book = GoodReadBook(json.loads(script), URL)\n"
   ],
   "metadata": {
    "collapsed": false
   }
  },
  {
   "cell_type": "code",
   "execution_count": null,
   "outputs": [],
   "source": [
    "book.name"
   ],
   "metadata": {
    "collapsed": false
   }
  },
  {
   "cell_type": "code",
   "execution_count": null,
   "outputs": [],
   "source": [],
   "metadata": {
    "collapsed": false
   }
  }
 ],
 "metadata": {
  "kernelspec": {
   "display_name": "Python 3",
   "language": "python",
   "name": "python3"
  },
  "language_info": {
   "codemirror_mode": {
    "name": "ipython",
    "version": 2
   },
   "file_extension": ".py",
   "mimetype": "text/x-python",
   "name": "python",
   "nbconvert_exporter": "python",
   "pygments_lexer": "ipython2",
   "version": "2.7.6"
  }
 },
 "nbformat": 4,
 "nbformat_minor": 0
}
