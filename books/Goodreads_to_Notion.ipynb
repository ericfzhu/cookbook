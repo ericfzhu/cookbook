{
 "cells": [
  {
   "cell_type": "code",
   "execution_count": 14,
   "outputs": [
    {
     "name": "stdout",
     "output_type": "stream",
     "text": [
      "Name: Life Lessons: Two Experts on Death and Dying Teach Us About the Mysteries of Life and Living\n",
      "Image: https://images-na.ssl-images-amazon.com/images/S/compressed.photo.goodreads.com/books/1378705391i/296776.jpg\n",
      "Format: Paperback\n",
      "Number of pages: 224\n",
      "Language: English\n",
      "ISBN: 9780684870755\n",
      "Rating: 4.27\n",
      "Number of ratings: 2081\n",
      "Number of reviews: 243\n",
      "Authors: ['Elisabeth Kübler-Ross', 'David Kessler']\n"
     ]
    }
   ],
   "source": [
    "from modules import Notion, Goodreads\n",
    "import os\n",
    "\n",
    "from dotenv import load_dotenv\n",
    "\n",
    "load_dotenv()\n",
    "NOTION_API_KEY = os.environ[\"NOTION_API_KEY\"]\n",
    "NOTION_DATABASE_ID = os.environ[\"NOTION_DATABASE_ID\"]\n",
    "\n",
    "# Provide the Goodreads URL to capture the metadata for\n",
    "URL = \"https://www.goodreads.com/book/show/296776.Life_Lessons\"\n",
    "\n",
    "goodreads = Goodreads(URL)\n",
    "\n",
    "book = goodreads.get_metadata(verbose=True)"
   ],
   "metadata": {
    "collapsed": false
   }
  },
  {
   "cell_type": "code",
   "execution_count": 15,
   "outputs": [
    {
     "data": {
      "text/plain": "<Response [200]>"
     },
     "execution_count": 15,
     "metadata": {},
     "output_type": "execute_result"
    }
   ],
   "source": [
    "notion = Notion(NOTION_API_KEY, NOTION_DATABASE_ID)\n",
    "notion.post_book_from_goodreads(book)"
   ],
   "metadata": {
    "collapsed": false
   }
  },
  {
   "cell_type": "code",
   "execution_count": 11,
   "outputs": [
    {
     "data": {
      "text/plain": "'On Death and Dying'"
     },
     "execution_count": 11,
     "metadata": {},
     "output_type": "execute_result"
    }
   ],
   "source": [
    "book.name"
   ],
   "metadata": {
    "collapsed": false
   }
  },
  {
   "cell_type": "code",
   "execution_count": null,
   "outputs": [],
   "source": [],
   "metadata": {
    "collapsed": false
   }
  }
 ],
 "metadata": {
  "kernelspec": {
   "display_name": "Python 3",
   "language": "python",
   "name": "python3"
  },
  "language_info": {
   "codemirror_mode": {
    "name": "ipython",
    "version": 2
   },
   "file_extension": ".py",
   "mimetype": "text/x-python",
   "name": "python",
   "nbconvert_exporter": "python",
   "pygments_lexer": "ipython2",
   "version": "2.7.6"
  }
 },
 "nbformat": 4,
 "nbformat_minor": 0
}
