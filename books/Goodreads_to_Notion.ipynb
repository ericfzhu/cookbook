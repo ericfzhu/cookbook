{
 "cells": [
  {
   "cell_type": "code",
   "execution_count": 11,
   "outputs": [
    {
     "name": "stdout",
     "output_type": "stream",
     "text": [
      "Name: Machine Learning Design Patterns: Solutions to Common Challenges in Data Preparation, Model Building, and MLOps\n",
      "Image: https://images-na.ssl-images-amazon.com/images/S/compressed.photo.goodreads.com/books/1599583594i/55275019.jpg\n",
      "Format: Paperback\n",
      "Number of pages: 400\n",
      "Language: English\n",
      "ISBN: 9781098115784\n",
      "Rating: 4.2\n",
      "Number of ratings: 147\n",
      "Number of reviews: 21\n",
      "Authors: ['Valliappa Lakshmanan', 'Sara Robinson', 'Michael Munn']\n"
     ]
    }
   ],
   "source": [
    "from modules import goodreads, notion\n",
    "\n",
    "# Provide the Goodreads URL to capture the metadata for\n",
    "URL = \"https://www.goodreads.com/book/show/55275019-machine-learning-design-patterns?ref=nav_sb_ss_1_111\"\n",
    "\n",
    "book = goodreads.get_book_metadata(URL, verbose=True)"
   ],
   "metadata": {
    "collapsed": false
   }
  },
  {
   "cell_type": "code",
   "execution_count": 12,
   "outputs": [
    {
     "data": {
      "text/plain": "<Response [400]>"
     },
     "execution_count": 12,
     "metadata": {},
     "output_type": "execute_result"
    }
   ],
   "source": [
    "notion.post_book_from_goodreads(book)"
   ],
   "metadata": {
    "collapsed": false
   }
  },
  {
   "cell_type": "code",
   "execution_count": 18,
   "outputs": [
    {
     "data": {
      "text/plain": "<Response [200]>"
     },
     "execution_count": 18,
     "metadata": {},
     "output_type": "execute_result"
    }
   ],
   "source": [
    "import requests\n",
    "import json\n",
    "NOTION_API_KEY=\"secret_F2r8vuOCteoio7aYUs2lS62ZuVEppxCwYghbnSXFrZA\"\n",
    "NOTION_DATABASE_ID=\"12896e3b2c4141ca83ed2993432f9750\"\n",
    "\n",
    "endpoint = \"https://api.notion.com/v1/pages/\"\n",
    "headers = {\n",
    "    \"accept\": \"application/json\",\n",
    "    \"Content-Type\": \"application/json\",\n",
    "    \"Notion-Version\": \"2022-06-28\",\n",
    "    \"Authorization\": f\"Bearer {NOTION_API_KEY}\",\n",
    "}\n",
    "data = json.dumps(\n",
    "    {\n",
    "        \"parent\": {\"database_id\": NOTION_DATABASE_ID},\n",
    "        \"properties\": {\n",
    "            \"Cover\": {\n",
    "                \"type\": \"files\",\n",
    "                \"files\": [\n",
    "                    {\n",
    "                        \"name\": \"Cover\",\n",
    "                        \"type\": \"external\",\n",
    "                        \"external\": {\"url\": book.image},\n",
    "                    }\n",
    "                ],\n",
    "            },\n",
    "            \"Status\": {\"type\": \"select\", \"select\": None},\n",
    "            \"End\": {\"type\": \"date\", \"date\": None},\n",
    "            \"Name\": {\n",
    "                \"type\": \"title\",\n",
    "                \"title\": [{\"type\": \"text\", \"text\": {\"content\": book.name}}],\n",
    "            },\n",
    "            \"Num Pages\": {\n",
    "                \"type\": \"number\",\n",
    "                \"number\": book.num_pages,\n",
    "            },\n",
    "            \"ISBN\": {\n",
    "                \"type\": \"rich_text\",\n",
    "                \"rich_text\": [{\"type\": \"text\", \"text\": {\"content\": book.isbn}}],\n",
    "            },\n",
    "            \"Author\": {\n",
    "                \"type\": \"rich_text\",\n",
    "                \"rich_text\": [{\"type\": \"text\", \"text\": {\"content\": \", \".join(book.authors)}}],\n",
    "            },\n",
    "            \"URL\": {\"type\": \"url\", \"url\": book.url},\n",
    "        },\n",
    "    }\n",
    ")\n",
    "\n",
    "requests.request(\"POST\", endpoint, headers=headers, data=data)"
   ],
   "metadata": {
    "collapsed": false
   }
  },
  {
   "cell_type": "code",
   "execution_count": null,
   "outputs": [],
   "source": [],
   "metadata": {
    "collapsed": false
   }
  }
 ],
 "metadata": {
  "kernelspec": {
   "display_name": "Python 3",
   "language": "python",
   "name": "python3"
  },
  "language_info": {
   "codemirror_mode": {
    "name": "ipython",
    "version": 2
   },
   "file_extension": ".py",
   "mimetype": "text/x-python",
   "name": "python",
   "nbconvert_exporter": "python",
   "pygments_lexer": "ipython2",
   "version": "2.7.6"
  }
 },
 "nbformat": 4,
 "nbformat_minor": 0
}
