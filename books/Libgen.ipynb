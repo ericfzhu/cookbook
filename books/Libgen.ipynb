{
 "cells": [
  {
   "cell_type": "code",
   "execution_count": 15,
   "outputs": [
    {
     "data": {
      "text/plain": "[{'ID': '3313755',\n  'Author': 'Chip Huyen',\n  'Title': 'Designing Machine Learning Systems: An Iterative Process for Production-Ready Applications[1\\xa0ed.]1098107969, 9781098107963',\n  'Publisher': \"O'Reilly Media\",\n  'Year': '2022',\n  'Pages': '386[389]',\n  'Language': 'English',\n  'Size': '15 Mb',\n  'Extension': 'pdf',\n  'Mirror_1': 'http://library.lol/main/887100BA4373EEBFED52EE1F973161DE',\n  'Mirror_2': 'http://libgen.lc/ads.php?md5=887100BA4373EEBFED52EE1F973161DE',\n  'Mirror_3': 'https://library.bz/main/edit/887100BA4373EEBFED52EE1F973161DE'}]"
     },
     "execution_count": 15,
     "metadata": {},
     "output_type": "execute_result"
    }
   ],
   "source": [
    "from modules import libgen\n",
    "\n",
    "# Provide the query and search type for libgen\n",
    "query = \"Designing Machine Learning Systems: An Iterative Process for Production-Ready Applications\"\n",
    "search_type = \"title\"\n",
    "\n",
    "results = libgen.search_book(query, search_type)\n",
    "results"
   ],
   "metadata": {
    "collapsed": false
   }
  },
  {
   "cell_type": "code",
   "execution_count": null,
   "outputs": [],
   "source": [],
   "metadata": {
    "collapsed": false
   }
  }
 ],
 "metadata": {
  "kernelspec": {
   "display_name": "Python 3",
   "language": "python",
   "name": "python3"
  },
  "language_info": {
   "codemirror_mode": {
    "name": "ipython",
    "version": 2
   },
   "file_extension": ".py",
   "mimetype": "text/x-python",
   "name": "python",
   "nbconvert_exporter": "python",
   "pygments_lexer": "ipython2",
   "version": "2.7.6"
  }
 },
 "nbformat": 4,
 "nbformat_minor": 0
}
