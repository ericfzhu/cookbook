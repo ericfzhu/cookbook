{
 "cells": [
  {
   "cell_type": "code",
   "execution_count": 3,
   "metadata": {
    "collapsed": true
   },
   "outputs": [],
   "source": [
    "import requests\n",
    "from bs4 import BeautifulSoup\n",
    "\n",
    "search_queries = [\n",
    "    \"identifier\",\n",
    "    \"title\",\n",
    "    \"author\",\n",
    "]\n",
    "\n",
    "query = \"Machine Learning Design Patterns: Solutions to Common Challenges in Data Preparation, Model Building, and MLOps\"\n",
    "search_type = \"title\"\n",
    "\n",
    "query_parsed = \"%20\".join(query.split(\" \"))\n",
    "search_url = f\"http://gen.lib.rus.ec/search.php?req={query_parsed}&column={search_type}\"\n",
    "search_page = requests.get(search_url)\n",
    "\n",
    "soup = BeautifulSoup(search_page.text, \"lxml\")\n",
    "data = soup.find_all(\"table\", class_=\"c\")[0]\n",
    "\n",
    "\n"
   ]
  },
  {
   "cell_type": "code",
   "execution_count": 14,
   "outputs": [
    {
     "data": {
      "text/plain": "[{'ID': '2901860',\n  'Author': 'Valliappa Lakshmanan &amp;Sara Robinson &amp;Michael Munn',\n  'Title': 'Machine Learning Design Patterns Solutions to Common Challenges in Data Preparation, Model Building, and MLOps',\n  'Publisher': 'Valliappa Lakshmanan & Sara Robinson & Michael Munn',\n  'Year': '0',\n  'Pages': '0',\n  'Language': 'English',\n  'Size': '17 Mb',\n  'Extension': 'epub',\n  'Mirror_1': 'http://library.lol/main/8C122A60F35688FD3ACE4A04CBED9DCB',\n  'Mirror_2': 'http://libgen.lc/ads.php?md5=8C122A60F35688FD3ACE4A04CBED9DCB',\n  'Mirror_3': 'https://library.bz/main/edit/8C122A60F35688FD3ACE4A04CBED9DCB'},\n {'ID': '2952480',\n  'Author': 'Valliappa Lakshmanan,Sara Robinson,Michael Munn',\n  'Title': 'Machine Learning Design Patterns: Solutions to Common Challenges in Data Preparation, Model Building, and MLOps[1\\xa0ed.]1098115783, 9781098115784',\n  'Publisher': \"O'Reilly Media\",\n  'Year': '2020',\n  'Pages': '408[671]',\n  'Language': 'English',\n  'Size': '19 Mb',\n  'Extension': 'pdf',\n  'Mirror_1': 'http://library.lol/main/F7F3CC988AB719586F049D40B0226586',\n  'Mirror_2': 'http://libgen.lc/ads.php?md5=F7F3CC988AB719586F049D40B0226586',\n  'Mirror_3': 'https://library.bz/main/edit/F7F3CC988AB719586F049D40B0226586'},\n {'ID': '3050868',\n  'Author': 'Valliappa Lakshmanan',\n  'Title': 'Machine Learning Design Patterns: Solutions to Common Challenges in Data Preparation, Model Building, and MLOps1098115783, 9781098115784',\n  'Publisher': \"O'Reilly Media, Inc, USA\",\n  'Year': '2020',\n  'Pages': '400[408]',\n  'Language': 'English',\n  'Size': '16 Mb',\n  'Extension': 'pdf',\n  'Mirror_1': 'http://library.lol/main/C26F444336FE33AA6668BDEBB2AC2178',\n  'Mirror_2': 'http://libgen.lc/ads.php?md5=C26F444336FE33AA6668BDEBB2AC2178',\n  'Mirror_3': 'https://library.bz/main/edit/C26F444336FE33AA6668BDEBB2AC2178'},\n {'ID': '3050892',\n  'Author': 'Valliappa Lakshmanan,Sara Robinson,Michael Munn',\n  'Title': 'Machine Learning Design Patterns: Solutions to Common Challenges in Data Preparation, Model Building, and MLOps[1\\xa0ed.]1098115783, 9781098115784',\n  'Publisher': \"O'Reilly Media\",\n  'Year': '2020',\n  'Pages': '408',\n  'Language': 'English',\n  'Size': '16 Mb',\n  'Extension': 'pdf',\n  'Mirror_1': 'http://library.lol/main/85A83F1EEECC745293309BCE9D701087',\n  'Mirror_2': 'http://libgen.lc/ads.php?md5=85A83F1EEECC745293309BCE9D701087',\n  'Mirror_3': 'https://library.bz/main/edit/85A83F1EEECC745293309BCE9D701087'}]"
     },
     "execution_count": 14,
     "metadata": {},
     "output_type": "execute_result"
    }
   ],
   "source": [
    "col_names = [\n",
    "    \"ID\",\n",
    "    \"Author\",\n",
    "    \"Title\",\n",
    "    \"Publisher\",\n",
    "    \"Year\",\n",
    "    \"Pages\",\n",
    "    \"Language\",\n",
    "    \"Size\",\n",
    "    \"Extension\",\n",
    "    \"Mirror_1\",\n",
    "    \"Mirror_2\",\n",
    "    \"Mirror_3\",\n",
    "    \"Mirror_4\",\n",
    "    \"Mirror_5\",\n",
    "    \"Edit\",\n",
    "]\n",
    "\n",
    "def extract_td_data(td):\n",
    "    if td.find(\"a\") and td.find(\"a\").has_attr(\"title\") and td.find(\"a\")[\"title\"] != \"\":\n",
    "        return td.a[\"href\"]\n",
    "    else:\n",
    "        return \"\".join(td.stripped_strings)\n",
    "\n",
    "raw_data = [\n",
    "    [extract_td_data(td) for td in row.find_all(\"td\")]\n",
    "    for row in data.find_all(\"tr\")[1:]\n",
    "]\n",
    "\n",
    "output_data = [dict(zip(col_names, row)) for row in raw_data]\n",
    "output_data"
   ],
   "metadata": {
    "collapsed": false
   }
  },
  {
   "cell_type": "code",
   "execution_count": 8,
   "outputs": [
    {
     "data": {
      "text/plain": "<table align=\"center\" cellpadding=\"1\" cellspacing=\"1\" class=\"c\" rules=\"rows\" width=\"100%\"><tr bgcolor=\"#C0C0C0\" valign=\"top\">\n<td><b><a href=\"search.php?&amp;req=Machine+Learning+Design+Patterns%3A+Solutions+to+Common+Challenges+in+Data+Preparation%2C+Model+Building%2C+and+MLOps&amp;phrase=1&amp;view=simple&amp;column=title&amp;sort=id&amp;sortmode=DESC\" title=\"Sort results by ID\">ID</a></b></td>\n<td><b><a href=\"search.php?&amp;req=Machine+Learning+Design+Patterns%3A+Solutions+to+Common+Challenges+in+Data+Preparation%2C+Model+Building%2C+and+MLOps&amp;phrase=1&amp;view=simple&amp;column=title&amp;sort=author&amp;sortmode=DESC\" title=\"Sort results by Author\">Author(s)</a></b></td>\n<td><b><a href=\"search.php?&amp;req=Machine+Learning+Design+Patterns%3A+Solutions+to+Common+Challenges+in+Data+Preparation%2C+Model+Building%2C+and+MLOps&amp;phrase=1&amp;view=simple&amp;column=title&amp;sort=title&amp;sortmode=DESC\" title=\"Sort results by Title\">Title</a></b></td>\n<td><b><a href=\"search.php?&amp;req=Machine+Learning+Design+Patterns%3A+Solutions+to+Common+Challenges+in+Data+Preparation%2C+Model+Building%2C+and+MLOps&amp;phrase=1&amp;view=simple&amp;column=title&amp;sort=publisher&amp;sortmode=DESC\" title=\"Sort results by Publisher\">Publisher</a></b></td>\n<td><b><a href=\"search.php?&amp;req=Machine+Learning+Design+Patterns%3A+Solutions+to+Common+Challenges+in+Data+Preparation%2C+Model+Building%2C+and+MLOps&amp;phrase=1&amp;view=simple&amp;column=title&amp;sort=year&amp;sortmode=DESC\" title=\"Sort results by Year\">Year</a></b></td>\n<td><b><a href=\"search.php?&amp;req=Machine+Learning+Design+Patterns%3A+Solutions+to+Common+Challenges+in+Data+Preparation%2C+Model+Building%2C+and+MLOps&amp;phrase=1&amp;view=simple&amp;column=title&amp;sort=pages&amp;sortmode=DESC\" title=\"Sort results by Pages\">Pages</a></b></td>\n<td><b><a href=\"search.php?&amp;req=Machine+Learning+Design+Patterns%3A+Solutions+to+Common+Challenges+in+Data+Preparation%2C+Model+Building%2C+and+MLOps&amp;phrase=1&amp;view=simple&amp;column=title&amp;sort=language&amp;sortmode=DESC\" title=\"Sort results by Language\">Language</a></b></td>\n<td><b><a href=\"search.php?&amp;req=Machine+Learning+Design+Patterns%3A+Solutions+to+Common+Challenges+in+Data+Preparation%2C+Model+Building%2C+and+MLOps&amp;phrase=1&amp;view=simple&amp;column=title&amp;sort=filesize&amp;sortmode=DESC\" title=\"Sort results by Size\">Size</a></b></td>\n<td><b><a href=\"search.php?&amp;req=Machine+Learning+Design+Patterns%3A+Solutions+to+Common+Challenges+in+Data+Preparation%2C+Model+Building%2C+and+MLOps&amp;phrase=1&amp;view=simple&amp;column=title&amp;sort=extension&amp;sortmode=DESC\" title=\"Sort results by Extension\">Extension</a></b></td>\n<td colspan=\"2\"><b>Mirrors</b></td>\n<td><b>Edit</b></td></tr><tr bgcolor=\"#C6DEFF\" valign=\"top\"><td>2901860</td>\n<td><a href=\"search.php?req=Valliappa+Lakshmanan+%26amp&amp;column=author\">Valliappa Lakshmanan &amp;amp</a>;<a href=\"search.php?req=+Sara+Robinson+%26amp&amp;column=author\"> Sara Robinson &amp;amp</a>;<a href=\"search.php?req=+Michael+Munn&amp;column=author\"> Michael Munn</a></td>\n<td width=\"500\"><a href=\"book/index.php?md5=8C122A60F35688FD3ACE4A04CBED9DCB\" id=\"2901860\" title=\"\">Machine Learning Design Patterns Solutions to Common Challenges in Data Preparation, Model Building, and MLOps</a></td>\n<td>Valliappa Lakshmanan &amp; Sara Robinson &amp; Michael Munn</td>\n<td nowrap=\"\">0</td>\n<td>0</td>\n<td>English</td>\n<td nowrap=\"\">17 Mb</td>\n<td nowrap=\"\">epub</td>\n<td><a href=\"http://library.lol/main/8C122A60F35688FD3ACE4A04CBED9DCB\" title=\"this mirror\">[1]</a></td><td><a href=\"http://libgen.lc/ads.php?md5=8C122A60F35688FD3ACE4A04CBED9DCB\" title=\"Libgen.lc\">[2]</a></td>\n<td><a href=\"https://library.bz/main/edit/8C122A60F35688FD3ACE4A04CBED9DCB\" title=\"Libgen Librarian\">[edit]</a></td>\n</tr>\n<tr bgcolor=\"\" valign=\"top\"><td>2952480</td>\n<td><a href=\"search.php?req=Valliappa+Lakshmanan&amp;column=author\">Valliappa Lakshmanan</a>,<a href=\"search.php?req=+Sara+Robinson&amp;column=author\"> Sara Robinson</a>,<a href=\"search.php?req=+Michael+Munn&amp;column=author\"> Michael Munn</a></td>\n<td width=\"500\"><a href=\"book/index.php?md5=F7F3CC988AB719586F049D40B0226586\" id=\"2952480\" title=\"\">Machine Learning Design Patterns: Solutions to Common Challenges in Data Preparation, Model Building, and MLOps <font color=\"green\" face=\"Times\"><i>[1 ed.]</i></font><br/> <font color=\"green\" face=\"Times\"><i>1098115783, 9781098115784</i></font></a></td>\n<td>O'Reilly Media</td>\n<td nowrap=\"\">2020</td>\n<td>408<br/>[671]</td>\n<td>English</td>\n<td nowrap=\"\">19 Mb</td>\n<td nowrap=\"\">pdf</td>\n<td><a href=\"http://library.lol/main/F7F3CC988AB719586F049D40B0226586\" title=\"this mirror\">[1]</a></td><td><a href=\"http://libgen.lc/ads.php?md5=F7F3CC988AB719586F049D40B0226586\" title=\"Libgen.lc\">[2]</a></td>\n<td><a href=\"https://library.bz/main/edit/F7F3CC988AB719586F049D40B0226586\" title=\"Libgen Librarian\">[edit]</a></td>\n</tr>\n<tr bgcolor=\"#C6DEFF\" valign=\"top\"><td>3050868</td>\n<td><a href=\"search.php?req=Valliappa+Lakshmanan&amp;column=author\">Valliappa Lakshmanan</a></td>\n<td width=\"500\"><a href=\"book/index.php?md5=C26F444336FE33AA6668BDEBB2AC2178\" id=\"3050868\" title=\"\">Machine Learning Design Patterns: Solutions to Common Challenges in Data Preparation, Model Building, and MLOps<br/> <font color=\"green\" face=\"Times\"><i>1098115783, 9781098115784</i></font></a></td>\n<td>O'Reilly Media, Inc, USA</td>\n<td nowrap=\"\">2020</td>\n<td>400<br/>[408]</td>\n<td>English</td>\n<td nowrap=\"\">16 Mb</td>\n<td nowrap=\"\">pdf</td>\n<td><a href=\"http://library.lol/main/C26F444336FE33AA6668BDEBB2AC2178\" title=\"this mirror\">[1]</a></td><td><a href=\"http://libgen.lc/ads.php?md5=C26F444336FE33AA6668BDEBB2AC2178\" title=\"Libgen.lc\">[2]</a></td>\n<td><a href=\"https://library.bz/main/edit/C26F444336FE33AA6668BDEBB2AC2178\" title=\"Libgen Librarian\">[edit]</a></td>\n</tr>\n<tr bgcolor=\"\" valign=\"top\"><td>3050892</td>\n<td><a href=\"search.php?req=Valliappa+Lakshmanan&amp;column=author\">Valliappa Lakshmanan</a>,<a href=\"search.php?req=+Sara+Robinson&amp;column=author\"> Sara Robinson</a>,<a href=\"search.php?req=+Michael+Munn&amp;column=author\"> Michael Munn</a></td>\n<td width=\"500\"><a href=\"book/index.php?md5=85A83F1EEECC745293309BCE9D701087\" id=\"3050892\" title=\"\">Machine Learning Design Patterns: Solutions to Common Challenges in Data Preparation, Model Building, and MLOps <font color=\"green\" face=\"Times\"><i>[1 ed.]</i></font><br/> <font color=\"green\" face=\"Times\"><i>1098115783, 9781098115784</i></font></a></td>\n<td>O'Reilly Media</td>\n<td nowrap=\"\">2020</td>\n<td>408</td>\n<td>English</td>\n<td nowrap=\"\">16 Mb</td>\n<td nowrap=\"\">pdf</td>\n<td><a href=\"http://library.lol/main/85A83F1EEECC745293309BCE9D701087\" title=\"this mirror\">[1]</a></td><td><a href=\"http://libgen.lc/ads.php?md5=85A83F1EEECC745293309BCE9D701087\" title=\"Libgen.lc\">[2]</a></td>\n<td><a href=\"https://library.bz/main/edit/85A83F1EEECC745293309BCE9D701087\" title=\"Libgen Librarian\">[edit]</a></td>\n</tr>\n</table>"
     },
     "execution_count": 8,
     "metadata": {},
     "output_type": "execute_result"
    }
   ],
   "source": [
    "data"
   ],
   "metadata": {
    "collapsed": false
   }
  },
  {
   "cell_type": "code",
   "execution_count": null,
   "outputs": [],
   "source": [],
   "metadata": {
    "collapsed": false
   }
  }
 ],
 "metadata": {
  "kernelspec": {
   "display_name": "Python 3",
   "language": "python",
   "name": "python3"
  },
  "language_info": {
   "codemirror_mode": {
    "name": "ipython",
    "version": 2
   },
   "file_extension": ".py",
   "mimetype": "text/x-python",
   "name": "python",
   "nbconvert_exporter": "python",
   "pygments_lexer": "ipython2",
   "version": "2.7.6"
  }
 },
 "nbformat": 4,
 "nbformat_minor": 0
}
