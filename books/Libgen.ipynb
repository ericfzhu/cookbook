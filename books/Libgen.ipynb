{
 "cells": [
  {
   "cell_type": "code",
   "execution_count": 5,
   "outputs": [
    {
     "data": {
      "text/plain": "[<modules.utils.LibGenBook at 0x127f5b6d0>,\n <modules.utils.LibGenBook at 0x15c333010>,\n <modules.utils.LibGenBook at 0x15c33bad0>,\n <modules.utils.LibGenBook at 0x15c33bd90>,\n <modules.utils.LibGenBook at 0x15c33bf10>,\n <modules.utils.LibGenBook at 0x15c33bf50>,\n <modules.utils.LibGenBook at 0x15c33bfd0>,\n <modules.utils.LibGenBook at 0x15c340090>]"
     },
     "execution_count": 5,
     "metadata": {},
     "output_type": "execute_result"
    }
   ],
   "source": [
    "from modules.libgen import LibGen\n",
    "\n",
    "# Provide the query and search type for libgen\n",
    "query = \"The Book of Why: The New Science of Cause and Effect\"\n",
    "search_type = \"title\"\n",
    "\n",
    "results = LibGen.search_book(query, search_type)\n",
    "results"
   ],
   "metadata": {
    "collapsed": false
   }
  },
  {
   "cell_type": "code",
   "execution_count": 9,
   "outputs": [
    {
     "data": {
      "text/plain": "['http://library.lol/main/BBE63B1CA460BEEF0CBADA9B3E954D25',\n 'http://libgen.lc/ads.php?md5=BBE63B1CA460BEEF0CBADA9B3E954D25',\n 'http://library.lol/main/B1BB57CA1509A16E31DADC7618FBFCE4',\n 'http://libgen.lc/ads.php?md5=B1BB57CA1509A16E31DADC7618FBFCE4',\n 'http://library.lol/main/6B4DC58C0028F2BBEAA2CC9204F01845',\n 'http://libgen.lc/ads.php?md5=6B4DC58C0028F2BBEAA2CC9204F01845',\n 'http://library.lol/main/6F6D87B4D2572CBB4B0387524AD57F23',\n 'http://libgen.lc/ads.php?md5=6F6D87B4D2572CBB4B0387524AD57F23',\n 'http://library.lol/main/129BF4C5B3E6F51E98F1E3444A513FEE',\n 'http://libgen.lc/ads.php?md5=129BF4C5B3E6F51E98F1E3444A513FEE',\n 'http://library.lol/main/ECB0DA42077485D5CA3DDEF5D865C231',\n 'http://libgen.lc/ads.php?md5=ECB0DA42077485D5CA3DDEF5D865C231',\n 'http://library.lol/main/E6010F9FDCA0D4B170BD9EBACED8ECCD',\n 'http://libgen.lc/ads.php?md5=E6010F9FDCA0D4B170BD9EBACED8ECCD',\n 'http://library.lol/main/97B445541D45C033465C63632D6C9EB4',\n 'http://libgen.lc/ads.php?md5=97B445541D45C033465C63632D6C9EB4']"
     },
     "execution_count": 9,
     "metadata": {},
     "output_type": "execute_result"
    }
   ],
   "source": [
    "LibGen.get_download_links(results)"
   ],
   "metadata": {
    "collapsed": false
   }
  },
  {
   "cell_type": "code",
   "execution_count": 10,
   "outputs": [
    {
     "data": {
      "text/plain": "{'GET': 'http://62.182.86.140/main/2219000/bbe63b1ca460beef0cbada9b3e954d25/Pearl%2C%20Judea_%20Mackenzie%2C%20Dana%20-%20The%20Book%20of%20Why_%20The%20New%20Science%20of%20Cause%20and%20Effect-Basic%20Books%20%282018%29.epub',\n 'Cloudflare': 'https://cloudflare-ipfs.com/ipfs/bafykbzacebn6snz4hytuie6wrglvtogkhswaec27fmirj3oyncvjziqhmqmd4?filename=Pearl%2C%20Judea_%20Mackenzie%2C%20Dana%20-%20The%20Book%20of%20Why_%20The%20New%20Science%20of%20Cause%20and%20Effect-Basic%20Books%20%282018%29.epub',\n 'IPFS.io': 'https://ipfs.io/ipfs/bafykbzacebn6snz4hytuie6wrglvtogkhswaec27fmirj3oyncvjziqhmqmd4?filename=Pearl%2C%20Judea_%20Mackenzie%2C%20Dana%20-%20The%20Book%20of%20Why_%20The%20New%20Science%20of%20Cause%20and%20Effect-Basic%20Books%20%282018%29.epub'}"
     },
     "execution_count": 10,
     "metadata": {},
     "output_type": "execute_result"
    }
   ],
   "source": [
    "from bs4 import BeautifulSoup\n",
    "import requests\n",
    "MIRROR_SOURCES = [\"GET\", \"Cloudflare\", \"IPFS.io\", \"Infura\"]\n",
    "\n",
    "page = requests.get(LibGen.get_download_links(results)[0])\n",
    "soup = BeautifulSoup(page.text, \"html.parser\")\n",
    "links = soup.find_all(\"a\", string=MIRROR_SOURCES)\n",
    "download_links = {link.string: link[\"href\"] for link in links}\n",
    "download_links"
   ],
   "metadata": {
    "collapsed": false
   }
  },
  {
   "cell_type": "code",
   "execution_count": null,
   "outputs": [],
   "source": [],
   "metadata": {
    "collapsed": false
   }
  }
 ],
 "metadata": {
  "kernelspec": {
   "display_name": "Python 3",
   "language": "python",
   "name": "python3"
  },
  "language_info": {
   "codemirror_mode": {
    "name": "ipython",
    "version": 2
   },
   "file_extension": ".py",
   "mimetype": "text/x-python",
   "name": "python",
   "nbconvert_exporter": "python",
   "pygments_lexer": "ipython2",
   "version": "2.7.6"
  }
 },
 "nbformat": 4,
 "nbformat_minor": 0
}
