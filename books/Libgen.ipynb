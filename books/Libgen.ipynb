{
 "cells": [
  {
   "cell_type": "code",
   "execution_count": 14,
   "outputs": [
    {
     "data": {
      "text/plain": "[<modules.utils.LibGenBook at 0x122c16e90>,\n <modules.utils.LibGenBook at 0x122d23bd0>,\n <modules.utils.LibGenBook at 0x116948750>,\n <modules.utils.LibGenBook at 0x126689b50>,\n <modules.utils.LibGenBook at 0x126689c10>,\n <modules.utils.LibGenBook at 0x1267b3fd0>,\n <modules.utils.LibGenBook at 0x1267b4850>,\n <modules.utils.LibGenBook at 0x1267b4710>,\n <modules.utils.LibGenBook at 0x1267b4810>]"
     },
     "execution_count": 14,
     "metadata": {},
     "output_type": "execute_result"
    }
   ],
   "source": [
    "from modules.libgen import LibGen\n",
    "from modules.kindle import Kindle\n",
    "\n",
    "# Provide the query and search type for libgen\n",
    "query = \"The Book of Why: The New Science of Cause and Effect\"\n",
    "search_type = \"title\"\n",
    "\n",
    "libgen = LibGen(query, search_type)\n",
    "libgen.book_results()"
   ],
   "metadata": {
    "collapsed": false
   }
  },
  {
   "cell_type": "code",
   "execution_count": 15,
   "outputs": [
    {
     "data": {
      "text/plain": "['http://library.lol/main/BBE63B1CA460BEEF0CBADA9B3E954D25',\n 'http://libgen.lc/ads.php?md5=BBE63B1CA460BEEF0CBADA9B3E954D25',\n 'http://library.lol/main/B1BB57CA1509A16E31DADC7618FBFCE4',\n 'http://libgen.lc/ads.php?md5=B1BB57CA1509A16E31DADC7618FBFCE4',\n 'http://library.lol/main/6B4DC58C0028F2BBEAA2CC9204F01845',\n 'http://libgen.lc/ads.php?md5=6B4DC58C0028F2BBEAA2CC9204F01845',\n 'http://library.lol/main/6F6D87B4D2572CBB4B0387524AD57F23',\n 'http://libgen.lc/ads.php?md5=6F6D87B4D2572CBB4B0387524AD57F23',\n 'http://library.lol/main/129BF4C5B3E6F51E98F1E3444A513FEE',\n 'http://libgen.lc/ads.php?md5=129BF4C5B3E6F51E98F1E3444A513FEE',\n 'http://library.lol/main/ECB0DA42077485D5CA3DDEF5D865C231',\n 'http://libgen.lc/ads.php?md5=ECB0DA42077485D5CA3DDEF5D865C231',\n 'http://library.lol/main/E6010F9FDCA0D4B170BD9EBACED8ECCD',\n 'http://libgen.lc/ads.php?md5=E6010F9FDCA0D4B170BD9EBACED8ECCD',\n 'http://library.lol/main/97B445541D45C033465C63632D6C9EB4',\n 'http://libgen.lc/ads.php?md5=97B445541D45C033465C63632D6C9EB4',\n 'http://library.lol/main/2A24B8A0A5C630A437980B2F70A27026',\n 'http://libgen.lc/ads.php?md5=2A24B8A0A5C630A437980B2F70A27026']"
     },
     "execution_count": 15,
     "metadata": {},
     "output_type": "execute_result"
    }
   ],
   "source": [
    "libgen.download_links()"
   ],
   "metadata": {
    "collapsed": false
   }
  },
  {
   "cell_type": "code",
   "execution_count": 3,
   "outputs": [
    {
     "data": {
      "text/plain": "{'GET': 'http://62.182.86.140/main/2219000/bbe63b1ca460beef0cbada9b3e954d25/Pearl%2C%20Judea_%20Mackenzie%2C%20Dana%20-%20The%20Book%20of%20Why_%20The%20New%20Science%20of%20Cause%20and%20Effect-Basic%20Books%20%282018%29.epub',\n 'Cloudflare': 'https://cloudflare-ipfs.com/ipfs/bafykbzacebn6snz4hytuie6wrglvtogkhswaec27fmirj3oyncvjziqhmqmd4?filename=Pearl%2C%20Judea_%20Mackenzie%2C%20Dana%20-%20The%20Book%20of%20Why_%20The%20New%20Science%20of%20Cause%20and%20Effect-Basic%20Books%20%282018%29.epub',\n 'IPFS.io': 'https://ipfs.io/ipfs/bafykbzacebn6snz4hytuie6wrglvtogkhswaec27fmirj3oyncvjziqhmqmd4?filename=Pearl%2C%20Judea_%20Mackenzie%2C%20Dana%20-%20The%20Book%20of%20Why_%20The%20New%20Science%20of%20Cause%20and%20Effect-Basic%20Books%20%282018%29.epub'}"
     },
     "execution_count": 3,
     "metadata": {},
     "output_type": "execute_result"
    }
   ],
   "source": [
    "response = libgen.download_first()"
   ],
   "metadata": {
    "collapsed": false
   }
  },
  {
   "cell_type": "code",
   "execution_count": null,
   "outputs": [],
   "source": [
    "kindle = Kindle()"
   ],
   "metadata": {
    "collapsed": false
   }
  }
 ],
 "metadata": {
  "kernelspec": {
   "display_name": "Python 3",
   "language": "python",
   "name": "python3"
  },
  "language_info": {
   "codemirror_mode": {
    "name": "ipython",
    "version": 2
   },
   "file_extension": ".py",
   "mimetype": "text/x-python",
   "name": "python",
   "nbconvert_exporter": "python",
   "pygments_lexer": "ipython2",
   "version": "2.7.6"
  }
 },
 "nbformat": 4,
 "nbformat_minor": 0
}
