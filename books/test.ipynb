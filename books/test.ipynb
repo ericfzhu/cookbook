{
 "cells": [
  {
   "cell_type": "code",
   "execution_count": 1,
   "metadata": {},
   "outputs": [
    {
     "data": {
      "text/plain": [
       "[<modules.utils.LibGenBook at 0x10ad97490>,\n",
       " <modules.utils.LibGenBook at 0x10ad974c0>]"
      ]
     },
     "execution_count": 1,
     "metadata": {},
     "output_type": "execute_result"
    }
   ],
   "source": [
    "from modules import libgen\n",
    "\n",
    "query = \"Breath: The New Science of a Lost Art\"\n",
    "\n",
    "libgen = libgen.LibGen(query)\n",
    "book = libgen.get_book_results()"
   ]
  },
  {
   "cell_type": "code",
   "execution_count": 39,
   "metadata": {},
   "outputs": [],
   "source": [
    "import requests\n",
    "from bs4 import BeautifulSoup\n",
    "query = \"Why Today's Media Makes Us Despise One Another\"\n",
    "mirror = 'https://libgen.is/fiction'\n",
    "search_url = f'https://library.memoryoftheworld.org/search/titles/{query}'\n",
    "response = requests.get(search_url)\n",
    "\n",
    "import json\n",
    "data = json.loads(response.text)"
   ]
  },
  {
   "cell_type": "code",
   "execution_count": 44,
   "metadata": {},
   "outputs": [
    {
     "data": {
      "text/plain": [
       "{'_items': [{'title': 'Hate Inc.: Why Today’s Media Makes Us Despise One Another',\n",
       "   'pubdate': '2019-10-08T05:00:00+00:00',\n",
       "   'library_uuid': 'a8ffd2bc-b7bc-4d56-97f4-1457710d432a',\n",
       "   '_id': '190acdd4-408c-44e2-9ce6-2e8e4f1d87ef',\n",
       "   'authors': ['Matt Taibbi'],\n",
       "   'formats': [{'format': 'epub',\n",
       "     'file_name': \"Hate Inc._ Why Today's Media Ma - Matt Taibbi.epub\",\n",
       "     'dir_path': \"Matt Taibbi/Hate Inc._ Why Today's Media Makes (11783)/\",\n",
       "     'size': 717286}],\n",
       "   'cover_url': \"Matt Taibbi/Hate Inc._ Why Today's Media Makes (11783)/cover.jpg\",\n",
       "   'library_url': '//outernationale.memoryoftheworld.org/',\n",
       "   'librarian': 'outernationale'}],\n",
       " '_links': {'parent': {'title': 'Memory of the World Library', 'href': '/'},\n",
       "  'self': {'title': 'search in titles',\n",
       "   'href': \"search/titles/Why%20Today's%20Media%20Makes%20Us%20Despise%20One%20Another\"},\n",
       "  'last': {'title': 'last page',\n",
       "   'href': \"/search/titles/Why%20Today's%20Media%20Makes%20Us%20Despise%20One%20Another?page=1\"}},\n",
       " '_meta': {'page': 1,\n",
       "  'max_results': 48,\n",
       "  'total': 1,\n",
       "  'status': 'search in titles'}}"
      ]
     },
     "execution_count": 44,
     "metadata": {},
     "output_type": "execute_result"
    }
   ],
   "source": [
    "data"
   ]
  },
  {
   "cell_type": "code",
   "execution_count": 46,
   "metadata": {},
   "outputs": [],
   "source": [
    "processed_books = []\n",
    "for book in data['_items']:\n",
    "    processed_books.append({\n",
    "        \"title\": book['title'],\n",
    "        \"link\": f\"https://library.memoryoftheworld.org/book/{book['_id']}\",\n",
    "        \"author\": book[\"authors\"],\n",
    "        \"cover_img\": f\"https://{book['library_url']}.org{book['cover_url']}\",\n",
    "        \"downloads\": [{\n",
    "            \"format\": format[\"format\"],\n",
    "            \"link\": f'http:{book[\"library_url\"]}{format[\"dir_path\"]}{format[\"file_name\"]}'}\n",
    "            for format in book[\"formats\"]]\n",
    "    })"
   ]
  },
  {
   "cell_type": "code",
   "execution_count": 47,
   "metadata": {},
   "outputs": [
    {
     "data": {
      "text/plain": [
       "[{'title': 'Hate Inc.: Why Today’s Media Makes Us Despise One Another',\n",
       "  'link': 'https://library.memoryoftheworld.org/book/190acdd4-408c-44e2-9ce6-2e8e4f1d87ef',\n",
       "  'author': ['Matt Taibbi'],\n",
       "  'cover_img': \"https:////outernationale.memoryoftheworld.org/.orgMatt Taibbi/Hate Inc._ Why Today's Media Makes (11783)/cover.jpg\",\n",
       "  'downloads': [{'format': 'epub',\n",
       "    'link': \"http://outernationale.memoryoftheworld.org/Matt Taibbi/Hate Inc._ Why Today's Media Makes (11783)/Hate Inc._ Why Today's Media Ma - Matt Taibbi.epub\"}]}]"
      ]
     },
     "execution_count": 47,
     "metadata": {},
     "output_type": "execute_result"
    }
   ],
   "source": [
    "processed_books"
   ]
  }
 ],
 "metadata": {
  "kernelspec": {
   "display_name": "knowledge-toolkit-1xOQ03yO",
   "language": "python",
   "name": "python3"
  },
  "language_info": {
   "codemirror_mode": {
    "name": "ipython",
    "version": 3
   },
   "file_extension": ".py",
   "mimetype": "text/x-python",
   "name": "python",
   "nbconvert_exporter": "python",
   "pygments_lexer": "ipython3",
   "version": "3.9.6"
  },
  "orig_nbformat": 4
 },
 "nbformat": 4,
 "nbformat_minor": 2
}
