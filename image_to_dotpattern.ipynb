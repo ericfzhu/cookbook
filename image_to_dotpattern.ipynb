{
 "cells": [
  {
   "cell_type": "code",
   "execution_count": 6,
   "metadata": {},
   "outputs": [],
   "source": [
    "from PIL import Image, ImageDraw\n",
    "import numpy as np\n",
    "\n",
    "def create_dot_pattern(image_path, dot_percentage=10):\n",
    "    # Form the output_path from image file + output\n",
    "    output_path = image_path.split('.')[0] + 'output.jpg'\n",
    "    # Open the image file\n",
    "    original_image = Image.open(image_path)\n",
    "    width, height = original_image.size\n",
    "\n",
    "    # Calculate dot size as a percentage of the image width\n",
    "    dot_size = int(width * dot_percentage / 100)\n",
    "\n",
    "    # Create a new image with white background\n",
    "    dot_image = Image.new('RGB', (width, height), '#0C2533')\n",
    "    draw = ImageDraw.Draw(dot_image)\n",
    "\n",
    "    # Convert the image into numpy array\n",
    "    np_image = np.array(original_image)\n",
    "\n",
    "    # Iterate over the image array by dot_size\n",
    "    for i in range(0, height, dot_size):\n",
    "        for j in range(0, width, dot_size):\n",
    "            # Calculate the average color of this dot\n",
    "            avg_color = np.mean(np_image[i:i+dot_size, j:j+dot_size], axis=(0, 1))\n",
    "            avg_color = tuple(avg_color.astype(int))\n",
    "\n",
    "            # Draw the dot on the new image\n",
    "            draw.ellipse((j, i, j+dot_size, i+dot_size), fill=avg_color)\n",
    "\n",
    "    # Save the dot pattern image\n",
    "    dot_image.save(output_path)\n",
    "\n",
    "# Usage\n",
    "create_dot_pattern('1200x1200bf-60.jpg', dot_percentage=2)"
   ]
  }
 ],
 "metadata": {
  "kernelspec": {
   "display_name": "knowledge-toolkit-1xOQ03yO",
   "language": "python",
   "name": "python3"
  },
  "language_info": {
   "codemirror_mode": {
    "name": "ipython",
    "version": 3
   },
   "file_extension": ".py",
   "mimetype": "text/x-python",
   "name": "python",
   "nbconvert_exporter": "python",
   "pygments_lexer": "ipython3",
   "version": "3.9.6"
  }
 },
 "nbformat": 4,
 "nbformat_minor": 2
}
