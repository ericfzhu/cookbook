{
 "cells": [
  {
   "cell_type": "code",
   "execution_count": 7,
   "metadata": {},
   "outputs": [
    {
     "data": {
      "text/plain": [
       "True"
      ]
     },
     "execution_count": 7,
     "metadata": {},
     "output_type": "execute_result"
    }
   ],
   "source": [
    "\n",
    "import cv2\n",
    "import numpy as np\n",
    "\n",
    "# Load the image\n",
    "img = cv2.imread('banner.png', cv2.IMREAD_UNCHANGED)\n",
    "\n",
    "# Define the blur properties\n",
    "sigma = 5\n",
    "r = 2\n",
    "\n",
    "# Apply gaussian blur\n",
    "# Ensure kernel size is odd\n",
    "r = r if r % 2 == 1 else r + 1\n",
    "blur = cv2.GaussianBlur(img, (r, r), sigma)\n",
    "\n",
    "# Save the blurred image\n",
    "cv2.imwrite('output.jpg', blur)\n",
    "\n",
    "\n",
    "\n"
   ]
  }
 ],
 "metadata": {
  "kernelspec": {
   "display_name": "cookbook-arWL8AMb",
   "language": "python",
   "name": "python3"
  },
  "language_info": {
   "codemirror_mode": {
    "name": "ipython",
    "version": 3
   },
   "file_extension": ".py",
   "mimetype": "text/x-python",
   "name": "python",
   "nbconvert_exporter": "python",
   "pygments_lexer": "ipython3",
   "version": "3.11.5"
  }
 },
 "nbformat": 4,
 "nbformat_minor": 2
}
