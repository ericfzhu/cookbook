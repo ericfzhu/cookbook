{
 "cells": [
  {
   "cell_type": "code",
   "execution_count": 13,
   "metadata": {},
   "outputs": [
    {
     "name": "stdout",
     "output_type": "stream",
     "text": [
      "Color space adjusted and image saved.\n"
     ]
    }
   ],
   "source": [
    "import cv2  # Import OpenCV\n",
    "import numpy as np\n",
    "\n",
    "def match_histograms(source, reference):\n",
    "    \"\"\"\n",
    "    Adjust the pixel values of a grayscale image such that its histogram\n",
    "    matches that of a target image\n",
    "    \"\"\"\n",
    "    source_hist, bins = np.histogram(source.flatten(), 256, [0, 256])\n",
    "    reference_hist, _ = np.histogram(reference.flatten(), 256, [0, 256])\n",
    "\n",
    "    # Cumulative distribution function\n",
    "    source_cdf = np.cumsum(source_hist) \n",
    "    reference_cdf = np.cumsum(reference_hist)\n",
    "\n",
    "    # Create a lookup table to map pixel values\n",
    "    lookup_table = np.zeros(256, dtype=np.uint8)\n",
    "    for i in range(256):\n",
    "        idx = np.abs(source_cdf[i] - reference_cdf).argmin()\n",
    "        lookup_table[i] = idx\n",
    "\n",
    "    # Apply the mapping to get the result image\n",
    "    result = cv2.LUT(source, lookup_table)\n",
    "    return result\n",
    "\n",
    "def adjust_color_space(video_path, image_path):\n",
    "    # Read the first frame from the video\n",
    "    video = cv2.VideoCapture(video_path)\n",
    "    success, frame_from_video = video.read()\n",
    "    video.release()\n",
    "\n",
    "    if not success:\n",
    "        print(\"Error: Could not read the first frame\")\n",
    "        return\n",
    "\n",
    "    # Convert the frame to RGB\n",
    "    frame_from_video_rgb = cv2.cvtColor(frame_from_video, cv2.COLOR_BGR2RGB)\n",
    "\n",
    "    # Read and convert the image to RGB\n",
    "    image_rgb = cv2.cvtColor(cv2.imread(image_path), cv2.COLOR_BGR2RGB)\n",
    "\n",
    "    # Match histograms for each channel\n",
    "    adjusted_image = np.zeros_like(image_rgb)\n",
    "    for channel in range(3):\n",
    "        adjusted_image[..., channel] = match_histograms(image_rgb[..., channel], frame_from_video_rgb[..., channel])\n",
    "\n",
    "    # Scale the image to match video frame's resolution\n",
    "    adjusted_image_scaled = cv2.resize(adjusted_image, (frame_from_video.shape[1], frame_from_video.shape[0]))\n",
    "\n",
    "    # Convert back to BGR and save the adjusted and scaled image\n",
    "    cv2.imwrite(\"path/to/adjusted_image.jpg\", cv2.cvtColor(adjusted_image_scaled, cv2.COLOR_RGB2BGR))\n",
    "    print(\"Color space adjusted and image saved.\")\n",
    "\n",
    "def extract_first_frame(video_path, image_path, alpha=1.0, beta=0):\n",
    "    video = cv2.VideoCapture(video_path)\n",
    "\n",
    "    success, frame = video.read()\n",
    "    if success:\n",
    "\n",
    "        # Save the adjusted frame as an image\n",
    "        cv2.imwrite(image_path, frame)\n",
    "        print(f\"Adjusted first frame saved as {image_path}\")\n",
    "    else:\n",
    "        print(\"Error: Could not read the first frame\")\n",
    "\n",
    "    video.release()\n",
    "\n",
    "\n",
    "video_file = \"background.mp4\"\n",
    "image_file = \"background.png\"\n",
    "adjust_color_space(video_file, image_file)"
   ]
  }
 ],
 "metadata": {
  "kernelspec": {
   "display_name": "knowledge-toolkit-1xOQ03yO",
   "language": "python",
   "name": "python3"
  },
  "language_info": {
   "codemirror_mode": {
    "name": "ipython",
    "version": 3
   },
   "file_extension": ".py",
   "mimetype": "text/x-python",
   "name": "python",
   "nbconvert_exporter": "python",
   "pygments_lexer": "ipython3",
   "version": "3.9.6"
  }
 },
 "nbformat": 4,
 "nbformat_minor": 2
}
