{
 "cells": [
  {
   "cell_type": "code",
   "execution_count": 2,
   "metadata": {},
   "outputs": [
    {
     "name": "stdout",
     "output_type": "stream",
     "text": [
      "PDF saved without password protection as: unprotected.pdf\n"
     ]
    }
   ],
   "source": [
    "import PyPDF2\n",
    "\n",
    "# Open the PDF file\n",
    "pdf_file = \"original.pdf\"\n",
    "file_handler = open(pdf_file, 'rb')\n",
    "pdf_reader = PyPDF2.PdfReader(file_handler)\n",
    "\n",
    "# Create a new PDF writer object\n",
    "pdf_writer = PyPDF2.PdfWriter()\n",
    "\n",
    "# Add all pages from the original PDF to the new PDF writer\n",
    "for page in range(len(pdf_reader.pages)):\n",
    "    pdf_writer.add_page(pdf_reader.pages[page])\n",
    "\n",
    "# Open a new file to save the PDF without password protection\n",
    "unprotected_file = \"unprotected.pdf\"\n",
    "with open(unprotected_file, 'wb') as file_handler:\n",
    "    pdf_writer.write(file_handler)\n",
    "\n",
    "print(f\"PDF saved without password protection as: {unprotected_file}\")"
   ]
  }
 ],
 "metadata": {
  "kernelspec": {
   "display_name": "cookbook-arWL8AMb",
   "language": "python",
   "name": "python3"
  },
  "language_info": {
   "codemirror_mode": {
    "name": "ipython",
    "version": 3
   },
   "file_extension": ".py",
   "mimetype": "text/x-python",
   "name": "python",
   "nbconvert_exporter": "python",
   "pygments_lexer": "ipython3",
   "version": "3.11.5"
  }
 },
 "nbformat": 4,
 "nbformat_minor": 2
}
